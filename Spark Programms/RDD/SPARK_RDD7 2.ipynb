{
 "cells": [
  {
   "cell_type": "code",
   "execution_count": 0,
   "metadata": {
    "application/vnd.databricks.v1+cell": {
     "cellMetadata": {
      "byteLimit": 2048000,
      "rowLimit": 10000
     },
     "inputWidgets": {},
     "nuid": "05b51243-f37e-48b7-9b14-a070d31d823e",
     "showTitle": false,
     "title": ""
    }
   },
   "outputs": [],
   "source": [
    "from pyspark import SparkConf, SparkContext\n",
    "conf=SparkConf().setAppName(\"Count Word\")\n",
    "sc=SparkContext.getOrCreate(conf=conf)\n",
    "rdd=sc.textFile('FileStore/tables/spark4.txt')"
   ]
  },
  {
   "cell_type": "code",
   "execution_count": 0,
   "metadata": {
    "application/vnd.databricks.v1+cell": {
     "cellMetadata": {
      "byteLimit": 2048000,
      "rowLimit": 10000
     },
     "inputWidgets": {},
     "nuid": "e9f98d36-1a73-41cd-9e4f-353316ed8d3e",
     "showTitle": false,
     "title": ""
    }
   },
   "outputs": [
    {
     "output_type": "stream",
     "name": "stdout",
     "output_type": "stream",
     "text": [
      "Out[3]: [('Spark', 7),\n ('are', 3),\n ('process', 1),\n ('of', 8),\n ('converting', 1),\n ('RDD,', 1),\n ('is', 7),\n ('immutable', 1),\n ('in', 10),\n ('into', 1),\n ('an', 1),\n ('applying', 2),\n ('it.', 1),\n ('more', 2),\n ('details', 1),\n ('What', 1),\n ('detail', 2),\n ('point', 1),\n ('down', 1),\n ('when', 1),\n ('we', 1),\n ('Spark,', 1),\n ('performed', 2),\n ('It', 1),\n ('save', 1),\n ('operations', 1),\n ('source', 1),\n ('sequence', 2),\n ('creating', 1),\n ('(Directed', 1),\n ('Acyclic', 1),\n ('Once', 1),\n ('Action', 2),\n ('out,', 1),\n ('defined', 1),\n ('as', 4),\n ('Execution.', 1),\n ('Transformation,', 1),\n ('Speculative', 1),\n ('Now', 1),\n ('move', 1),\n ('on,', 1),\n ('basic', 1),\n ('executed', 1),\n ('examples', 1),\n ('transformations', 1),\n ('etc.', 1),\n ('Let', 1),\n ('us', 1),\n ('consider', 1),\n ('input', 1),\n ('below.', 1),\n ('task', 1),\n ('both', 1),\n ('flat', 1),\n ('results', 1),\n ('produced', 1),\n ('understand', 1),\n ('working', 1),\n ('knowledge', 1),\n ('where', 1),\n ('use', 1),\n ('do', 1),\n ('this', 1),\n ('split()', 1),\n ('Map()', 1),\n ('Same', 1),\n ('applied', 1),\n ('Java', 1),\n ('programming', 1),\n ('modification', 1),\n ('Transformations', 2),\n ('the', 12),\n ('or', 1),\n ('transforming', 1),\n ('given', 1),\n ('data', 2),\n ('which', 1),\n ('nature', 1),\n ('another', 1),\n ('RDD', 4),\n ('by', 4),\n ('some', 3),\n ('transformation', 3),\n ('logic', 2),\n ('to', 9),\n ('If', 1),\n ('you', 1),\n ('need', 1),\n ('on', 6),\n ('RDD?', 1),\n ('follow', 1),\n ('link', 1),\n ('learn', 2),\n ('about', 2),\n ('RDD.', 1),\n ('Most', 1),\n ('important', 1),\n ('be', 4),\n ('noted', 1),\n ('that', 1),\n ('apply', 2),\n ('top', 4),\n ('any', 1),\n ('operation', 2),\n ('not', 1),\n ('immediately.', 1),\n ('will', 2),\n ('list', 1),\n ('a', 5),\n ('DAG,', 1),\n ('Graph).', 1),\n ('called', 1),\n ('all', 1),\n ('Transformation', 1),\n ('DAG', 1),\n ('executed.', 1),\n ('This', 1),\n ('property', 1),\n ('Lazy', 1),\n ('We', 2),\n ('can', 2),\n ('and', 9),\n ('Execution', 1),\n ('our', 1),\n ('upcoming', 1),\n ('chapters.', 1),\n ('few', 1),\n ('Map,', 1),\n ('Flatmap,', 1),\n ('Filter,', 1),\n ('Mappartition,', 1),\n ('file', 2),\n ('text', 1),\n ('it', 2),\n ('contains', 1),\n ('sentence', 1),\n ('shown', 1),\n ('Our', 1),\n ('map', 2),\n ('one', 2),\n ('observe', 1),\n ('gain', 1),\n ('Map', 1),\n ('Flatmap.', 1),\n ('function', 1),\n ('FlatMap()', 1),\n ('PySpark.', 1),\n ('Scala', 1),\n ('well', 1),\n ('with', 1),\n ('slight', 1),\n ('syntax.', 1)]"
     ]
    }
   ],
   "source": [
    "rdd.flatMap(lambda x:x.split(\" \")).map(lambda x:(x,1)).reduceByKey(lambda x,y: x+y).collect()"
   ]
  },
  {
   "cell_type": "code",
   "execution_count": 0,
   "metadata": {
    "application/vnd.databricks.v1+cell": {
     "cellMetadata": {},
     "inputWidgets": {},
     "nuid": "bbf53232-094c-40f8-b77f-65e056a1acbc",
     "showTitle": false,
     "title": ""
    }
   },
   "outputs": [],
   "source": []
  }
 ],
 "metadata": {
  "application/vnd.databricks.v1+notebook": {
   "dashboards": [],
   "language": "python",
   "notebookMetadata": {
    "pythonIndentUnit": 4
   },
   "notebookName": "SPARK_RDD7",
   "widgets": {}
  }
 },
 "nbformat": 4,
 "nbformat_minor": 0
}
