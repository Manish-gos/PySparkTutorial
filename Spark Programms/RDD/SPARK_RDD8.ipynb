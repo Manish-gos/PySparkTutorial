{
 "cells": [
  {
   "cell_type": "code",
   "execution_count": 1,
   "id": "bdeb35d1-28d9-45aa-83b3-cc2f728e5dde",
   "metadata": {
    "tags": []
   },
   "outputs": [
    {
     "name": "stderr",
     "output_type": "stream",
     "text": [
      "Setting default log level to \"WARN\".\n",
      "To adjust logging level use sc.setLogLevel(newLevel). For SparkR, use setLogLevel(newLevel).\n",
      "23/12/23 10:34:06 WARN NativeCodeLoader: Unable to load native-hadoop library for your platform... using builtin-java classes where applicable\n"
     ]
    }
   ],
   "source": [
    "from pyspark import SparkConf,SparkContext\n",
    "conf=SparkConf().setAppName(\"Repartition and colease\")\n",
    "sc=SparkContext.getOrCreate(conf=conf)\n",
    "rdd=sc.textFile('Files/spark4.txt')"
   ]
  },
  {
   "cell_type": "code",
   "execution_count": 2,
   "id": "a18d984b-5501-4539-8bd9-fcc868f809cd",
   "metadata": {
    "tags": []
   },
   "outputs": [
    {
     "data": {
      "text/plain": [
       "2"
      ]
     },
     "execution_count": 2,
     "metadata": {},
     "output_type": "execute_result"
    }
   ],
   "source": [
    "rdd.getNumPartitions()"
   ]
  },
  {
   "cell_type": "code",
   "execution_count": 3,
   "id": "4dadd50b-5611-42ae-9447-03263252137b",
   "metadata": {
    "tags": []
   },
   "outputs": [],
   "source": [
    "rdd1=rdd.flatMap(lambda x: x.split(' ')).map(lambda x : (x,1)).repartition(5)\n",
    "rdd1.saveAsTextFile('Files/Output1')"
   ]
  },
  {
   "cell_type": "code",
   "execution_count": 4,
   "id": "5c434ba1-cdd8-49ba-ac65-c18904de8eea",
   "metadata": {
    "tags": []
   },
   "outputs": [
    {
     "data": {
      "text/plain": [
       "5"
      ]
     },
     "execution_count": 4,
     "metadata": {},
     "output_type": "execute_result"
    }
   ],
   "source": [
    "rdd1.getNumPartitions()"
   ]
  },
  {
   "cell_type": "code",
   "execution_count": 5,
   "id": "585bdaff-3674-491e-8dc8-9e843ca3ff5d",
   "metadata": {
    "tags": []
   },
   "outputs": [],
   "source": [
    "rdd2=rdd1.coalesce(1)"
   ]
  },
  {
   "cell_type": "code",
   "execution_count": 6,
   "id": "1ecf6e12-d627-464f-b10f-0cfe559cbf87",
   "metadata": {
    "tags": []
   },
   "outputs": [],
   "source": [
    "rdd2.saveAsTextFile('Files/Output2')"
   ]
  },
  {
   "cell_type": "code",
   "execution_count": null,
   "id": "21997afa-5088-436b-948f-ba49a835dcdc",
   "metadata": {},
   "outputs": [],
   "source": []
  }
 ],
 "metadata": {
  "kernelspec": {
   "display_name": "Python 3 (ipykernel)",
   "language": "python",
   "name": "python3"
  },
  "language_info": {
   "codemirror_mode": {
    "name": "ipython",
    "version": 3
   },
   "file_extension": ".py",
   "mimetype": "text/x-python",
   "name": "python",
   "nbconvert_exporter": "python",
   "pygments_lexer": "ipython3",
   "version": "3.11.5"
  }
 },
 "nbformat": 4,
 "nbformat_minor": 5
}
