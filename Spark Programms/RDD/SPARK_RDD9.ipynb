{
 "cells": [
  {
   "cell_type": "code",
   "execution_count": 1,
   "id": "07e6c393-38d2-4272-a24e-5b62362cc9aa",
   "metadata": {},
   "outputs": [
    {
     "name": "stderr",
     "output_type": "stream",
     "text": [
      "Setting default log level to \"WARN\".\n",
      "To adjust logging level use sc.setLogLevel(newLevel). For SparkR, use setLogLevel(newLevel).\n",
      "23/12/27 10:13:51 WARN NativeCodeLoader: Unable to load native-hadoop library for your platform... using builtin-java classes where applicable\n"
     ]
    },
    {
     "data": {
      "text/plain": [
       "['The Shawshank Redemption,1994,9.3',\n",
       " 'The Godfather,1972,9.2',\n",
       " 'The Dark Knight,2008,9.0',\n",
       " 'Pulp Fiction,1994,8.9',\n",
       " \"Schindler's List,1993,8.9\",\n",
       " 'The Lord of the Rings: The Return of the King,2003,8.9',\n",
       " 'Fight Club,1999,8.8',\n",
       " 'Forrest Gump,1994,8.8',\n",
       " 'Inception,2010,8.7',\n",
       " 'The Matrix,1999,8.7',\n",
       " 'The Silence of the Lambs,1991,8.6',\n",
       " 'The Green Mile,1999,8.6',\n",
       " 'The Shawshank Redemption,1994,9.3',\n",
       " 'The Godfather: Part II,1974,9.0',\n",
       " 'The Usual Suspects,1995,8.5',\n",
       " 'Se7en,1995,8.6',\n",
       " 'The Lord of the Rings: The Fellowship of the Ring,2001,8.8',\n",
       " 'The Departed,2006,8.5',\n",
       " 'The Prestige,2006,8.5',\n",
       " 'Gladiator,2000,8.5',\n",
       " 'The Dark Knight Rises,2012,8.4',\n",
       " 'American History X,1998,8.5',\n",
       " 'Saving Private Ryan,1998,8.6',\n",
       " 'The Pianist,2002,8.5',\n",
       " 'The Great Escape,1963,8.2',\n",
       " 'The Godfather: Part III,1990,7.6',\n",
       " 'The Grand Budapest Hotel,2014,8.1',\n",
       " 'Django Unchained,2012,8.4',\n",
       " 'The Revenant,2015,8.0',\n",
       " 'The Big Lebowski,1998,8.1',\n",
       " 'The Social Network,2010,7.7',\n",
       " 'La La Land,2016,8.0',\n",
       " 'The Shining,1980,8.4',\n",
       " 'Goodfellas,1990,8.7',\n",
       " 'A Beautiful Mind,2001,8.2',\n",
       " 'Jurassic Park,1993,8.1',\n",
       " 'Blade Runner,1982,8.1',\n",
       " 'The Godfather: Part III,1990,7.6',\n",
       " 'The Grand Budapest Hotel,2014,8.1',\n",
       " 'Django Unchained,2012,8.4',\n",
       " 'The Revenant,2015,8.0',\n",
       " 'The Big Lebowski,1998,8.1',\n",
       " 'The Social Network,2010,7.7',\n",
       " 'La La Land,2016,8.0',\n",
       " 'The Shining,1980,8.4',\n",
       " 'Goodfellas,1990,8.7',\n",
       " 'A Beautiful Mind,2001,8.2',\n",
       " 'Jurassic Park,1993,8.1',\n",
       " 'Blade Runner,1982,8.1']"
      ]
     },
     "execution_count": 1,
     "metadata": {},
     "output_type": "execute_result"
    }
   ],
   "source": [
    "from pyspark import SparkContext,SparkConf\n",
    "conf=SparkConf().setAppName(\"Average\")\n",
    "sc=SparkContext.getOrCreate(conf=conf)\n",
    "rdd=sc.textFile('Files/movie.csv').filter(lambda x: x.split(',')[0]!='movie_name')\n",
    "rdd.collect()"
   ]
  },
  {
   "cell_type": "code",
   "execution_count": 14,
   "id": "f4a609ab-293c-4c1d-bba6-7d1a302bd1e7",
   "metadata": {
    "tags": []
   },
   "outputs": [],
   "source": [
    "rdd1=rdd.map(lambda x : (x.split(',')[0] , (float(x.split(',')[2]),1)))"
   ]
  },
  {
   "cell_type": "code",
   "execution_count": 15,
   "id": "77445fec-1f52-4c0d-a6bd-16a884bab3a1",
   "metadata": {
    "tags": []
   },
   "outputs": [
    {
     "data": {
      "text/plain": [
       "[('The Shawshank Redemption', (9.3, 1)),\n",
       " ('The Godfather', (9.2, 1)),\n",
       " ('The Dark Knight', (9.0, 1)),\n",
       " ('Pulp Fiction', (8.9, 1)),\n",
       " (\"Schindler's List\", (8.9, 1)),\n",
       " ('The Lord of the Rings: The Return of the King', (8.9, 1)),\n",
       " ('Fight Club', (8.8, 1)),\n",
       " ('Forrest Gump', (8.8, 1)),\n",
       " ('Inception', (8.7, 1)),\n",
       " ('The Matrix', (8.7, 1)),\n",
       " ('The Silence of the Lambs', (8.6, 1)),\n",
       " ('The Green Mile', (8.6, 1)),\n",
       " ('The Shawshank Redemption', (9.3, 1)),\n",
       " ('The Godfather: Part II', (9.0, 1)),\n",
       " ('The Usual Suspects', (8.5, 1)),\n",
       " ('Se7en', (8.6, 1)),\n",
       " ('The Lord of the Rings: The Fellowship of the Ring', (8.8, 1)),\n",
       " ('The Departed', (8.5, 1)),\n",
       " ('The Prestige', (8.5, 1)),\n",
       " ('Gladiator', (8.5, 1)),\n",
       " ('The Dark Knight Rises', (8.4, 1)),\n",
       " ('American History X', (8.5, 1)),\n",
       " ('Saving Private Ryan', (8.6, 1)),\n",
       " ('The Pianist', (8.5, 1)),\n",
       " ('The Great Escape', (8.2, 1)),\n",
       " ('The Godfather: Part III', (7.6, 1)),\n",
       " ('The Grand Budapest Hotel', (8.1, 1)),\n",
       " ('Django Unchained', (8.4, 1)),\n",
       " ('The Revenant', (8.0, 1)),\n",
       " ('The Big Lebowski', (8.1, 1)),\n",
       " ('The Social Network', (7.7, 1)),\n",
       " ('La La Land', (8.0, 1)),\n",
       " ('The Shining', (8.4, 1)),\n",
       " ('Goodfellas', (8.7, 1)),\n",
       " ('A Beautiful Mind', (8.2, 1)),\n",
       " ('Jurassic Park', (8.1, 1)),\n",
       " ('Blade Runner', (8.1, 1)),\n",
       " ('The Godfather: Part III', (7.6, 1)),\n",
       " ('The Grand Budapest Hotel', (8.1, 1)),\n",
       " ('Django Unchained', (8.4, 1)),\n",
       " ('The Revenant', (8.0, 1)),\n",
       " ('The Big Lebowski', (8.1, 1)),\n",
       " ('The Social Network', (7.7, 1)),\n",
       " ('La La Land', (8.0, 1)),\n",
       " ('The Shining', (8.4, 1)),\n",
       " ('Goodfellas', (8.7, 1)),\n",
       " ('A Beautiful Mind', (8.2, 1)),\n",
       " ('Jurassic Park', (8.1, 1)),\n",
       " ('Blade Runner', (8.1, 1))]"
      ]
     },
     "execution_count": 15,
     "metadata": {},
     "output_type": "execute_result"
    }
   ],
   "source": [
    "rdd1.collect()"
   ]
  },
  {
   "cell_type": "code",
   "execution_count": 16,
   "id": "defec088-75c7-4cc2-8aa4-e088de745038",
   "metadata": {
    "tags": []
   },
   "outputs": [],
   "source": [
    "rdd2=rdd1.reduceByKey(lambda x,y : (x[0]+y[0],x[1]+y[1]))"
   ]
  },
  {
   "cell_type": "code",
   "execution_count": 20,
   "id": "0834733d-d65e-40ae-ad4f-732ea09c9ae7",
   "metadata": {
    "tags": []
   },
   "outputs": [
    {
     "data": {
      "text/plain": [
       "[('The Shawshank Redemption', 9.3),\n",
       " ('Pulp Fiction', 8.9),\n",
       " (\"Schindler's List\", 8.9),\n",
       " ('Inception', 8.7),\n",
       " ('The Silence of the Lambs', 8.6),\n",
       " ('The Green Mile', 8.6),\n",
       " ('The Godfather: Part II', 9.0),\n",
       " ('Se7en', 8.6),\n",
       " ('The Departed', 8.5),\n",
       " ('The Prestige', 8.5),\n",
       " ('Gladiator', 8.5),\n",
       " ('The Dark Knight Rises', 8.4),\n",
       " ('American History X', 8.5),\n",
       " ('Saving Private Ryan', 8.6),\n",
       " ('The Great Escape', 8.2),\n",
       " ('The Revenant', 8.0),\n",
       " ('The Big Lebowski', 8.1),\n",
       " ('Goodfellas', 8.7),\n",
       " ('A Beautiful Mind', 8.2),\n",
       " ('The Godfather', 9.2),\n",
       " ('The Dark Knight', 9.0),\n",
       " ('The Lord of the Rings: The Return of the King', 8.9),\n",
       " ('Fight Club', 8.8),\n",
       " ('Forrest Gump', 8.8),\n",
       " ('The Matrix', 8.7),\n",
       " ('The Usual Suspects', 8.5),\n",
       " ('The Lord of the Rings: The Fellowship of the Ring', 8.8),\n",
       " ('The Pianist', 8.5),\n",
       " ('The Godfather: Part III', 7.6),\n",
       " ('The Grand Budapest Hotel', 8.1),\n",
       " ('Django Unchained', 8.4),\n",
       " ('The Social Network', 7.7),\n",
       " ('La La Land', 8.0),\n",
       " ('The Shining', 8.4),\n",
       " ('Jurassic Park', 8.1),\n",
       " ('Blade Runner', 8.1)]"
      ]
     },
     "execution_count": 20,
     "metadata": {},
     "output_type": "execute_result"
    }
   ],
   "source": [
    "rdd2.map(lambda x: (x[0], x[1][0]/x[1][1])).collect()"
   ]
  },
  {
   "cell_type": "code",
   "execution_count": null,
   "id": "a3058c81-ff30-4b5d-91d3-28c86114bfab",
   "metadata": {},
   "outputs": [],
   "source": []
  }
 ],
 "metadata": {
  "kernelspec": {
   "display_name": "Python 3 (ipykernel)",
   "language": "python",
   "name": "python3"
  },
  "language_info": {
   "codemirror_mode": {
    "name": "ipython",
    "version": 3
   },
   "file_extension": ".py",
   "mimetype": "text/x-python",
   "name": "python",
   "nbconvert_exporter": "python",
   "pygments_lexer": "ipython3",
   "version": "3.11.5"
  }
 },
 "nbformat": 4,
 "nbformat_minor": 5
}
