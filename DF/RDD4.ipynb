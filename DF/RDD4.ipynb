{
 "cells": [
  {
   "cell_type": "code",
   "execution_count": 1,
   "id": "81566317-e482-4c50-a045-c7f9f031606a",
   "metadata": {
    "tags": []
   },
   "outputs": [
    {
     "name": "stderr",
     "output_type": "stream",
     "text": [
      "24/11/10 23:19:50 WARN Utils: Your hostname, Manishs-MacBook-Air.local resolves to a loopback address: 127.0.0.1; using 192.168.1.3 instead (on interface en0)\n",
      "24/11/10 23:19:50 WARN Utils: Set SPARK_LOCAL_IP if you need to bind to another address\n",
      "Setting default log level to \"WARN\".\n",
      "To adjust logging level use sc.setLogLevel(newLevel). For SparkR, use setLogLevel(newLevel).\n",
      "24/11/10 23:19:51 WARN NativeCodeLoader: Unable to load native-hadoop library for your platform... using builtin-java classes where applicable\n",
      "24/11/10 23:19:51 WARN Utils: Service 'SparkUI' could not bind on port 4040. Attempting port 4041.\n"
     ]
    },
    {
     "name": "stdout",
     "output_type": "stream",
     "text": [
      "+---+------+----------------+------+------+-----+--------------------+\n",
      "|age|gender|            name|course|  roll|marks|               email|\n",
      "+---+------+----------------+------+------+-----+--------------------+\n",
      "| 28|Female| Hubert Oliveras|    DB|  2984|   59|Annika Hoffman_Na...|\n",
      "| 29|Female|Toshiko Hillyard| Cloud| 12899|   62|Margene Moores_Ma...|\n",
      "| 28|  Male|  Celeste Lollis|    PF| 21267|   45|Jeannetta Golden_...|\n",
      "| 29|Female|    Elenore Choy|    DB| 32877|   29|Billi Clore_Mitzi...|\n",
      "| 28|  Male|  Sheryll Towler|   DSA| 41487|   41|Claude Panos_Judi...|\n",
      "| 28|  Male|  Margene Moores|   MVC| 52771|   32|Toshiko Hillyard_...|\n",
      "| 28|  Male|     Neda Briski|   OOP| 61973|   69|Alberta Freund_El...|\n",
      "| 28|Female|    Claude Panos| Cloud| 72409|   85|Sheryll Towler_Al...|\n",
      "| 28|  Male|  Celeste Lollis|   MVC| 81492|   64|Nicole Harwood_Cl...|\n",
      "| 29|  Male|  Cordie Harnois|   OOP| 92882|   51|Judie Chipps_Clem...|\n",
      "| 29|Female|       Kena Wild|   DSA|102285|   35|Dustin Feagins_Ma...|\n",
      "| 29|  Male| Ernest Rossbach|    DB|111449|   53|Maybell Duguay_Ab...|\n",
      "| 28|Female|  Latia Vanhoose|    DB|122502|   27|Latia Vanhoose_Mi...|\n",
      "| 29|Female|  Latia Vanhoose|   MVC|132110|   55|Eda Neathery_Nico...|\n",
      "| 29|  Male|     Neda Briski|    PF|141770|   42|Margene Moores_Mi...|\n",
      "| 29|Female|  Latia Vanhoose|    DB|152159|   27|Claude Panos_Sant...|\n",
      "| 29|  Male|  Loris Crossett|   MVC|161771|   36|Mitzi Seldon_Jenn...|\n",
      "| 29|  Male|  Annika Hoffman|   OOP|171660|   22|Taryn Brownlee_Mi...|\n",
      "| 29|  Male|   Santa Kerfien|    PF|182129|   56|Judie Chipps_Tary...|\n",
      "| 28|Female|Mickey Cortright|    DB|192537|   62|Ernest Rossbach_M...|\n",
      "+---+------+----------------+------+------+-----+--------------------+\n",
      "only showing top 20 rows\n",
      "\n",
      "root\n",
      " |-- age: integer (nullable = true)\n",
      " |-- gender: string (nullable = true)\n",
      " |-- name: string (nullable = true)\n",
      " |-- course: string (nullable = true)\n",
      " |-- roll: integer (nullable = true)\n",
      " |-- marks: integer (nullable = true)\n",
      " |-- email: string (nullable = true)\n",
      "\n"
     ]
    }
   ],
   "source": [
    "from pyspark.sql import SparkSession\n",
    "spark=SparkSession.builder.appName('Filters').getOrCreate()\n",
    "df=spark.read.option('header',True).option('inferSchema',True).csv('Files/StudentData.csv')\n",
    "df.show()\n",
    "df.describe()\n",
    "df.printSchema()"
   ]
  },
  {
   "cell_type": "code",
   "execution_count": 2,
   "id": "17c41dce-e296-4415-b209-dc33ad509480",
   "metadata": {
    "tags": []
   },
   "outputs": [
    {
     "name": "stdout",
     "output_type": "stream",
     "text": [
      "+---+------+-----------------+------+-------+-----+--------------------+\n",
      "|age|gender|             name|course|   roll|marks|               email|\n",
      "+---+------+-----------------+------+-------+-----+--------------------+\n",
      "| 28|Female|  Hubert Oliveras|    DB|   2984|   59|Annika Hoffman_Na...|\n",
      "| 29|Female|     Elenore Choy|    DB|  32877|   29|Billi Clore_Mitzi...|\n",
      "| 29|  Male|  Ernest Rossbach|    DB| 111449|   53|Maybell Duguay_Ab...|\n",
      "| 28|Female|   Latia Vanhoose|    DB| 122502|   27|Latia Vanhoose_Mi...|\n",
      "| 29|Female|   Latia Vanhoose|    DB| 152159|   27|Claude Panos_Sant...|\n",
      "| 28|Female| Mickey Cortright|    DB| 192537|   62|Ernest Rossbach_M...|\n",
      "| 28|Female|      Anna Santos|    DB| 311589|   79|Celeste Lollis_Mi...|\n",
      "| 28|  Male|    Kizzy Brenner|    DB| 381712|   36|Paris Hutton_Kena...|\n",
      "| 28|  Male| Toshiko Hillyard|    DB| 392218|   47|Leontine Phillips...|\n",
      "| 29|  Male|     Paris Hutton|    DB| 481229|   57|Clementina Menke_...|\n",
      "| 28|Female| Mickey Cortright|    DB| 551389|   43|Tijuana Kropf_Jen...|\n",
      "| 28|Female|Leontine Phillips|    DB| 602404|   48|Neda Briski_Cheri...|\n",
      "| 28|Female|  Hubert Oliveras|    DB| 771081|   79|Kizzy Brenner_Dus...|\n",
      "| 29|Female|     Elenore Choy|    DB| 811824|   55|Maybell Duguay_Me...|\n",
      "| 29|  Male| Clementina Menke|    DB| 882200|   76|Michelle Ruggiero...|\n",
      "| 29|Female|  Sebrina Maresca|    DB| 922210|   54|Toshiko Hillyard_...|\n",
      "| 29|  Male|     Naoma Fritts|    DB| 931295|   79|Hubert Oliveras_S...|\n",
      "| 28|  Male|   Annika Hoffman|    DB|1031544|   44|Dustin Feagins_So...|\n",
      "| 28|  Male|   Nicole Harwood|    DB|1211495|   28|Melani Engberg_Jc...|\n",
      "| 29|Female|     Claude Panos|    DB|1222887|   75|Hubert Oliveras_S...|\n",
      "+---+------+-----------------+------+-------+-----+--------------------+\n",
      "only showing top 20 rows\n",
      "\n"
     ]
    }
   ],
   "source": [
    "df.filter(df.course=='DB').show()"
   ]
  },
  {
   "cell_type": "code",
   "execution_count": 13,
   "id": "e8fb355e-e6b4-459e-a5ee-f030a0d7f4b4",
   "metadata": {
    "tags": []
   },
   "outputs": [
    {
     "ename": "NameError",
     "evalue": "name 'col' is not defined",
     "output_type": "error",
     "traceback": [
      "\u001b[0;31m---------------------------------------------------------------------------\u001b[0m",
      "\u001b[0;31mNameError\u001b[0m                                 Traceback (most recent call last)",
      "Cell \u001b[0;32mIn[13], line 1\u001b[0m\n\u001b[0;32m----> 1\u001b[0m df\u001b[38;5;241m.\u001b[39mfilter(col(\u001b[38;5;124m'\u001b[39m\u001b[38;5;124mcourse\u001b[39m\u001b[38;5;124m'\u001b[39m)\u001b[38;5;241m==\u001b[39m\u001b[38;5;124m'\u001b[39m\u001b[38;5;124mDB\u001b[39m\u001b[38;5;124m'\u001b[39m)\u001b[38;5;241m.\u001b[39mshow()\n",
      "\u001b[0;31mNameError\u001b[0m: name 'col' is not defined"
     ]
    }
   ],
   "source": [
    "df.filter(col('course')=='DB').show()"
   ]
  },
  {
   "cell_type": "code",
   "execution_count": 17,
   "id": "894e8c0f-51c3-4d21-81ba-d80f83782f79",
   "metadata": {
    "tags": []
   },
   "outputs": [
    {
     "name": "stdout",
     "output_type": "stream",
     "text": [
      "+---+------+------------------+------+-------+-----+--------------------+\n",
      "|age|gender|              name|course|   roll|marks|               email|\n",
      "+---+------+------------------+------+-------+-----+--------------------+\n",
      "| 28|Female|   Hubert Oliveras|    DB|   2984|   59|Annika Hoffman_Na...|\n",
      "| 29|  Male|   Ernest Rossbach|    DB| 111449|   53|Maybell Duguay_Ab...|\n",
      "| 28|Female|  Mickey Cortright|    DB| 192537|   62|Ernest Rossbach_M...|\n",
      "| 28|Female|       Anna Santos|    DB| 311589|   79|Celeste Lollis_Mi...|\n",
      "| 29|  Male|      Paris Hutton|    DB| 481229|   57|Clementina Menke_...|\n",
      "| 28|Female|   Hubert Oliveras|    DB| 771081|   79|Kizzy Brenner_Dus...|\n",
      "| 29|Female|      Elenore Choy|    DB| 811824|   55|Maybell Duguay_Me...|\n",
      "| 29|  Male|  Clementina Menke|    DB| 882200|   76|Michelle Ruggiero...|\n",
      "| 29|Female|   Sebrina Maresca|    DB| 922210|   54|Toshiko Hillyard_...|\n",
      "| 29|  Male|      Naoma Fritts|    DB| 931295|   79|Hubert Oliveras_S...|\n",
      "| 29|Female|      Claude Panos|    DB|1222887|   75|Hubert Oliveras_S...|\n",
      "| 29|Female| Leontine Phillips|    DB|1432252|   67|Billi Clore_Shery...|\n",
      "| 28|Female|   Gonzalo Ferebee|    DB|1451513|   69|Claude Panos_Tame...|\n",
      "| 28|  Male|   Marylee Capasso|    DB|1611411|   96|Annika Hoffman_Lo...|\n",
      "| 29|  Male|    Alberta Freund|    DB|1671638|   98|Clementina Menke_...|\n",
      "| 28|Female|Priscila Tavernier|    DB|1722388|   86|Lawanda Wohlwend_...|\n",
      "| 29|  Male|    Dustin Feagins|    DB|1782045|   81|Cordie Harnois_To...|\n",
      "| 29|  Male|     Tijuana Kropf|    DB|1882795|   92|Hubert Oliveras_E...|\n",
      "| 28|  Male|   Ernest Rossbach|    DB|1901492|   54|Latia Vanhoose_Jc...|\n",
      "| 29|Female| Leontine Phillips|    DB|1972893|   64|Marylee Capasso_E...|\n",
      "+---+------+------------------+------+-------+-----+--------------------+\n",
      "only showing top 20 rows\n",
      "\n"
     ]
    }
   ],
   "source": [
    "df.filter((df.course=='DB') & (df.marks>50)).show()"
   ]
  },
  {
   "cell_type": "code",
   "execution_count": 18,
   "id": "e1ff4c08-0aa9-4892-8561-f55cb73df855",
   "metadata": {
    "tags": []
   },
   "outputs": [
    {
     "name": "stdout",
     "output_type": "stream",
     "text": [
      "+---+------+----------------+------+------+-----+--------------------+\n",
      "|age|gender|            name|course|  roll|marks|               email|\n",
      "+---+------+----------------+------+------+-----+--------------------+\n",
      "| 28|Female| Hubert Oliveras|    DB|  2984|   59|Annika Hoffman_Na...|\n",
      "| 29|Female|    Elenore Choy|    DB| 32877|   29|Billi Clore_Mitzi...|\n",
      "| 28|  Male|     Neda Briski|   OOP| 61973|   69|Alberta Freund_El...|\n",
      "| 29|  Male|  Cordie Harnois|   OOP| 92882|   51|Judie Chipps_Clem...|\n",
      "| 29|  Male| Ernest Rossbach|    DB|111449|   53|Maybell Duguay_Ab...|\n",
      "| 28|Female|  Latia Vanhoose|    DB|122502|   27|Latia Vanhoose_Mi...|\n",
      "| 29|Female|  Latia Vanhoose|    DB|152159|   27|Claude Panos_Sant...|\n",
      "| 29|  Male|  Annika Hoffman|   OOP|171660|   22|Taryn Brownlee_Mi...|\n",
      "| 28|Female|Mickey Cortright|    DB|192537|   62|Ernest Rossbach_M...|\n",
      "| 28|Female|  Alberta Freund|   OOP|251805|   83|Annika Hoffman_Sh...|\n",
      "| 28|Female|     Anna Santos|    DB|311589|   79|Celeste Lollis_Mi...|\n",
      "| 28|  Male| Hubert Oliveras|   OOP|351719|   63|Lawanda Wohlwend_...|\n",
      "| 28|  Male|   Kizzy Brenner|    DB|381712|   36|Paris Hutton_Kena...|\n",
      "| 28|  Male|Toshiko Hillyard|    DB|392218|   47|Leontine Phillips...|\n",
      "| 28|Female|  Jalisa Swenson|   OOP|431352|   25|Gonzalo Ferebee_J...|\n",
      "| 29|  Male|  Annika Hoffman|   OOP|472550|   35|Mitzi Seldon_Abra...|\n",
      "| 29|  Male|    Paris Hutton|    DB|481229|   57|Clementina Menke_...|\n",
      "| 29|  Male|Toshiko Hillyard|   OOP|521221|   77|Hubert Oliveras_L...|\n",
      "| 29|Female|    Claude Panos|   OOP|542821|   28|Hubert Oliveras_P...|\n",
      "| 28|Female|Mickey Cortright|    DB|551389|   43|Tijuana Kropf_Jen...|\n",
      "+---+------+----------------+------+------+-----+--------------------+\n",
      "only showing top 20 rows\n",
      "\n"
     ]
    }
   ],
   "source": [
    "course=['DB',\"Colud\",'OOP']\n",
    "df.filter(df.course.isin(course)).show()"
   ]
  },
  {
   "cell_type": "code",
   "execution_count": 19,
   "id": "bd91f2cc-c684-4dcb-9154-d29a36961806",
   "metadata": {
    "tags": []
   },
   "outputs": [
    {
     "name": "stdout",
     "output_type": "stream",
     "text": [
      "+---+------+----------------+------+------+-----+--------------------+\n",
      "|age|gender|            name|course|  roll|marks|               email|\n",
      "+---+------+----------------+------+------+-----+--------------------+\n",
      "| 28|Female| Hubert Oliveras|    DB|  2984|   59|Annika Hoffman_Na...|\n",
      "| 29|Female|    Elenore Choy|    DB| 32877|   29|Billi Clore_Mitzi...|\n",
      "| 28|  Male|  Sheryll Towler|   DSA| 41487|   41|Claude Panos_Judi...|\n",
      "| 29|Female|       Kena Wild|   DSA|102285|   35|Dustin Feagins_Ma...|\n",
      "| 29|  Male| Ernest Rossbach|    DB|111449|   53|Maybell Duguay_Ab...|\n",
      "| 28|Female|  Latia Vanhoose|    DB|122502|   27|Latia Vanhoose_Mi...|\n",
      "| 29|Female|  Latia Vanhoose|    DB|152159|   27|Claude Panos_Sant...|\n",
      "| 28|Female|Mickey Cortright|    DB|192537|   62|Ernest Rossbach_M...|\n",
      "| 28|Female|    Jc Andrepont|   DSA|232060|   58|Billi Clore_Abram...|\n",
      "| 29|Female|    Paris Hutton|   DSA|271472|   99|Sheryll Towler_Al...|\n",
      "| 28|Female|  Dustin Feagins|   DSA|291984|   82|Abram Nagao_Kena ...|\n",
      "| 28|Female|     Anna Santos|    DB|311589|   79|Celeste Lollis_Mi...|\n",
      "| 28|Female|Mickey Cortright|   DSA|342003|   44|Mitzi Seldon_Jean...|\n",
      "| 28|  Male|   Kizzy Brenner|    DB|381712|   36|Paris Hutton_Kena...|\n",
      "| 28|  Male|Toshiko Hillyard|    DB|392218|   47|Leontine Phillips...|\n",
      "| 29|Female|     Anna Santos|   DSA|411479|   42|Kena Wild_Mitzi S...|\n",
      "| 28|Female|  Maybell Duguay|   DSA|452141|   29|Leontine Phillips...|\n",
      "| 29|  Male|    Paris Hutton|    DB|481229|   57|Clementina Menke_...|\n",
      "| 29|Female|    Paris Hutton|   DSA|492159|   60|Nicole Harwood_Ma...|\n",
      "| 28|Female|Mickey Cortright|    DB|551389|   43|Tijuana Kropf_Jen...|\n",
      "+---+------+----------------+------+------+-----+--------------------+\n",
      "only showing top 20 rows\n",
      "\n"
     ]
    }
   ],
   "source": [
    "df.filter(df.course.startswith('D')).show()"
   ]
  },
  {
   "cell_type": "code",
   "execution_count": 21,
   "id": "2919c18b-fb3a-491b-8b15-20c4336240e2",
   "metadata": {
    "tags": []
   },
   "outputs": [
    {
     "name": "stdout",
     "output_type": "stream",
     "text": [
      "+---+------+----------------+------+-------+-----+--------------------+\n",
      "|age|gender|            name|course|   roll|marks|               email|\n",
      "+---+------+----------------+------+-------+-----+--------------------+\n",
      "| 28|  Male|     Neda Briski|   OOP|  61973|   69|Alberta Freund_El...|\n",
      "| 29|  Male|  Cordie Harnois|   OOP|  92882|   51|Judie Chipps_Clem...|\n",
      "| 29|  Male|  Annika Hoffman|   OOP| 171660|   22|Taryn Brownlee_Mi...|\n",
      "| 28|Female|  Alberta Freund|   OOP| 251805|   83|Annika Hoffman_Sh...|\n",
      "| 28|  Male| Hubert Oliveras|   OOP| 351719|   63|Lawanda Wohlwend_...|\n",
      "| 28|Female|  Jalisa Swenson|   OOP| 431352|   25|Gonzalo Ferebee_J...|\n",
      "| 29|  Male|  Annika Hoffman|   OOP| 472550|   35|Mitzi Seldon_Abra...|\n",
      "| 29|  Male|Toshiko Hillyard|   OOP| 521221|   77|Hubert Oliveras_L...|\n",
      "| 29|Female|    Claude Panos|   OOP| 542821|   28|Hubert Oliveras_P...|\n",
      "| 28|  Male| Marylee Capasso|   OOP| 581756|   52|Jeannetta Golden_...|\n",
      "| 29|Female|     Billi Clore|   OOP| 791519|   93|Elenore Choy_Jali...|\n",
      "| 28|  Male|     Anna Santos|   OOP| 822396|   47|Leontine Phillips...|\n",
      "| 28|Female| Marylee Capasso|   OOP| 991770|   86|Margene Moores_Cl...|\n",
      "| 28|Female|    Claude Panos|   OOP|1081294|   94|Kizzy Brenner_Ann...|\n",
      "| 29|Female|  Melani Engberg|   OOP|1132093|   76|Kena Wild_Neda Br...|\n",
      "| 29|Female| Marylee Capasso|   OOP|1142653|   61|Cordie Harnois_Al...|\n",
      "| 29|Female|  Dustin Feagins|   OOP|1161607|   37|Eda Neathery_Mary...|\n",
      "| 28|Female|  Cordie Harnois|   OOP|1231943|   68|Mickey Cortright_...|\n",
      "| 28|  Male|  Nicole Harwood|   OOP|1242426|   71|Billi Clore_Loris...|\n",
      "| 28|  Male|Clementina Menke|   OOP|1341574|   46|Elenore Choy_Mick...|\n",
      "+---+------+----------------+------+-------+-----+--------------------+\n",
      "only showing top 20 rows\n",
      "\n"
     ]
    }
   ],
   "source": [
    "df.filter(df.course.endswith('P')).show()"
   ]
  },
  {
   "cell_type": "code",
   "execution_count": 22,
   "id": "64e8a9fd-9164-4ec5-9ee7-a81caf071678",
   "metadata": {
    "tags": []
   },
   "outputs": [
    {
     "name": "stdout",
     "output_type": "stream",
     "text": [
      "+---+------+----------------+------+-------+-----+--------------------+\n",
      "|age|gender|            name|course|   roll|marks|               email|\n",
      "+---+------+----------------+------+-------+-----+--------------------+\n",
      "| 29|Female|Toshiko Hillyard| Cloud|  12899|   62|Margene Moores_Ma...|\n",
      "| 28|Female|    Claude Panos| Cloud|  72409|   85|Sheryll Towler_Al...|\n",
      "| 28|Female|       Kena Wild| Cloud| 221750|   60|Mitzi Seldon_Jenn...|\n",
      "| 29|Female|     Anna Santos| Cloud| 242254|   68|Jc Andrepont_Hube...|\n",
      "| 28|Female|  Maybell Duguay| Cloud| 261439|   20|Nicole Harwood_Ju...|\n",
      "| 29|Female|    Cheri Kenney| Cloud| 281408|   43|Annika Hoffman_Me...|\n",
      "| 29|Female|    Claude Panos| Cloud| 302130|   59|Sheryll Towler_Le...|\n",
      "| 28|Female|   Kizzy Brenner| Cloud| 402409|   27|Ernest Rossbach_G...|\n",
      "| 29|Female|  Somer Stoecker| Cloud| 442028|   34|Taryn Brownlee_Ta...|\n",
      "| 29|  Male|     Billi Clore| Cloud| 512047|   76|Taryn Brownlee_Ju...|\n",
      "| 28|Female|  Somer Stoecker| Cloud| 612490|   82|Sebrina Maresca_G...|\n",
      "| 29|Female|    Judie Chipps| Cloud| 632793|   75|Tijuana Kropf_Ele...|\n",
      "| 28|  Male|  Annika Hoffman| Cloud| 722193|   55|Taryn Brownlee_El...|\n",
      "| 28|Female|     Billi Clore| Cloud| 801693|   38|Niki Klimek_Kizzy...|\n",
      "| 28|Female|   Santa Kerfien| Cloud| 851620|   34|Melani Engberg_Sh...|\n",
      "| 29|Female|    Eda Neathery| Cloud|1011971|   91|Margene Moores_El...|\n",
      "| 29|  Male|  Nicole Harwood| Cloud|1152571|   62|Latia Vanhoose_Ma...|\n",
      "| 28|  Male| Gonzalo Ferebee| Cloud|1251176|   60|Santa Kerfien_Tam...|\n",
      "| 29|  Male|  Jalisa Swenson| Cloud|1261533|   70|Dustin Feagins_Ni...|\n",
      "| 28|Female|    Eda Neathery| Cloud|1272870|   69|Somer Stoecker_Du...|\n",
      "+---+------+----------------+------+-------+-----+--------------------+\n",
      "only showing top 20 rows\n",
      "\n"
     ]
    }
   ],
   "source": [
    "df.filter(df.course.contains('lou')).show()"
   ]
  },
  {
   "cell_type": "code",
   "execution_count": 23,
   "id": "391e329f-7252-485c-a10c-6365823e46ef",
   "metadata": {
    "tags": []
   },
   "outputs": [
    {
     "name": "stdout",
     "output_type": "stream",
     "text": [
      "+---+------+----------------+------+-------+-----+--------------------+\n",
      "|age|gender|            name|course|   roll|marks|               email|\n",
      "+---+------+----------------+------+-------+-----+--------------------+\n",
      "| 29|Female|Toshiko Hillyard| Cloud|  12899|   62|Margene Moores_Ma...|\n",
      "| 28|Female|    Claude Panos| Cloud|  72409|   85|Sheryll Towler_Al...|\n",
      "| 28|Female|       Kena Wild| Cloud| 221750|   60|Mitzi Seldon_Jenn...|\n",
      "| 29|Female|     Anna Santos| Cloud| 242254|   68|Jc Andrepont_Hube...|\n",
      "| 28|Female|  Maybell Duguay| Cloud| 261439|   20|Nicole Harwood_Ju...|\n",
      "| 29|Female|    Cheri Kenney| Cloud| 281408|   43|Annika Hoffman_Me...|\n",
      "| 29|Female|    Claude Panos| Cloud| 302130|   59|Sheryll Towler_Le...|\n",
      "| 28|Female|   Kizzy Brenner| Cloud| 402409|   27|Ernest Rossbach_G...|\n",
      "| 29|Female|  Somer Stoecker| Cloud| 442028|   34|Taryn Brownlee_Ta...|\n",
      "| 29|  Male|     Billi Clore| Cloud| 512047|   76|Taryn Brownlee_Ju...|\n",
      "| 28|Female|  Somer Stoecker| Cloud| 612490|   82|Sebrina Maresca_G...|\n",
      "| 29|Female|    Judie Chipps| Cloud| 632793|   75|Tijuana Kropf_Ele...|\n",
      "| 28|  Male|  Annika Hoffman| Cloud| 722193|   55|Taryn Brownlee_El...|\n",
      "| 28|Female|     Billi Clore| Cloud| 801693|   38|Niki Klimek_Kizzy...|\n",
      "| 28|Female|   Santa Kerfien| Cloud| 851620|   34|Melani Engberg_Sh...|\n",
      "| 29|Female|    Eda Neathery| Cloud|1011971|   91|Margene Moores_El...|\n",
      "| 29|  Male|  Nicole Harwood| Cloud|1152571|   62|Latia Vanhoose_Ma...|\n",
      "| 28|  Male| Gonzalo Ferebee| Cloud|1251176|   60|Santa Kerfien_Tam...|\n",
      "| 29|  Male|  Jalisa Swenson| Cloud|1261533|   70|Dustin Feagins_Ni...|\n",
      "| 28|Female|    Eda Neathery| Cloud|1272870|   69|Somer Stoecker_Du...|\n",
      "+---+------+----------------+------+-------+-----+--------------------+\n",
      "only showing top 20 rows\n",
      "\n"
     ]
    }
   ],
   "source": [
    "df.filter(df.course.like('%lo%')).show()"
   ]
  },
  {
   "cell_type": "code",
   "execution_count": null,
   "id": "9b1bf282-5959-4f65-99eb-66769189186a",
   "metadata": {},
   "outputs": [],
   "source": []
  },
  {
   "cell_type": "code",
   "execution_count": null,
   "id": "0f298a45-2a1f-48fc-b7be-e8636bac842c",
   "metadata": {},
   "outputs": [],
   "source": []
  }
 ],
 "metadata": {
  "kernelspec": {
   "display_name": "Python 3 (ipykernel)",
   "language": "python",
   "name": "python3"
  },
  "language_info": {
   "codemirror_mode": {
    "name": "ipython",
    "version": 3
   },
   "file_extension": ".py",
   "mimetype": "text/x-python",
   "name": "python",
   "nbconvert_exporter": "python",
   "pygments_lexer": "ipython3",
   "version": "3.11.5"
  }
 },
 "nbformat": 4,
 "nbformat_minor": 5
}
