{
 "cells": [
  {
   "cell_type": "code",
   "execution_count": 57,
   "id": "5bd2be1e-c8ae-41a7-a223-c1b182120c02",
   "metadata": {
    "tags": []
   },
   "outputs": [
    {
     "name": "stdout",
     "output_type": "stream",
     "text": [
      "+-----------+-------------------+----------+-----+------+---+-----+\n",
      "|employee_id|      employee_name|department|state|salary|age|bonus|\n",
      "+-----------+-------------------+----------+-----+------+---+-----+\n",
      "|       1000|          Nitz Leif| Marketing|   CA|  6131| 26|  543|\n",
      "|       1001|    Melissia Dedman|   Finance|   AK|  4027| 43| 1290|\n",
      "|       1002|  Rudolph Barringer|        HR|   LA|  3122| 43| 1445|\n",
      "|       1003|        Tamra Amber|  Accounts|   AK|  5717| 47| 1291|\n",
      "|       1004|        Mullan Nitz|Purchasing|   CA|  5685| 34| 1394|\n",
      "|       1005|      Zollner Karie|  Accounts|   CA|  2843| 27| 1078|\n",
      "|       1006|Kaczorowski Zollner|     Sales|   CA|  7201| 21| 1834|\n",
      "|       1007|      Nakano Locust| Marketing|   LA|  3444| 23| 1823|\n",
      "|       1008|  Recalde Kensinger|  Accounts|   LA|  3704| 48| 1330|\n",
      "|       1009|        Imai Hallie|  Accounts|   AK|  5061| 38| 1557|\n",
      "|       1010|    Debroah Gallman|  Accounts|   NY|  9308| 35|  817|\n",
      "|       1011|   Barringer Escoto|Purchasing|   WA|  1685| 49| 1706|\n",
      "|       1012|      Soules Coogan|  Accounts|   AK|  8330| 43| 1914|\n",
      "|       1013|      Luisa Suzanne|  Accounts|   CA|  1151| 37| 1095|\n",
      "|       1014|      Marvis Cobian|Purchasing|   NY|  5061| 41| 1765|\n",
      "|       1015|   Cobian Kensinger|     Sales|   LA|  1983| 21|  632|\n",
      "|       1016|      Gilma Margret| Marketing|   CA|  2919| 45| 1762|\n",
      "|       1017| Ellingsworth Ilana|  Accounts|   WA|  9614| 26| 1964|\n",
      "|       1018| Vankirk Jacquelyne|Purchasing|   NY|  8636| 47| 1192|\n",
      "|       1019|    Zollner Juliana|        HR|   NY|  9739| 30| 1119|\n",
      "+-----------+-------------------+----------+-----+------+---+-----+\n",
      "only showing top 20 rows\n",
      "\n"
     ]
    }
   ],
   "source": [
    "from pyspark.sql import SparkSession\n",
    "from pyspark.sql.functions import col,lit,sum,count,min,max,avg,udf\n",
    "from pyspark.sql.types import IntegerType\n",
    "spark=SparkSession.builder.appName('miniproject').getOrCreate()\n",
    "df=spark.read.options(header=True, inferSchema=True).csv('Files/OfficeDataProject.csv')\n",
    "df.show()"
   ]
  },
  {
   "cell_type": "code",
   "execution_count": 16,
   "id": "5001905d-0ab2-46e7-9dba-cefee2206cb3",
   "metadata": {
    "tags": []
   },
   "outputs": [
    {
     "name": "stdout",
     "output_type": "stream",
     "text": [
      "Total number of employees 1000\n"
     ]
    }
   ],
   "source": [
    "ct=df.count()\n",
    "\n",
    "print(f'Total number of employees {ct}')"
   ]
  },
  {
   "cell_type": "code",
   "execution_count": 21,
   "id": "4473b77c-61b1-49f2-af23-9d503d48321b",
   "metadata": {
    "tags": []
   },
   "outputs": [
    {
     "name": "stdout",
     "output_type": "stream",
     "text": [
      "Total number of departments 6\n"
     ]
    }
   ],
   "source": [
    "dp=df.select('department').distinct().count()\n",
    "print(f'Total number of departments {dp}')"
   ]
  },
  {
   "cell_type": "code",
   "execution_count": 22,
   "id": "d9f3713b-4a65-403b-965c-410bf8a300ed",
   "metadata": {
    "tags": []
   },
   "outputs": [
    {
     "name": "stdout",
     "output_type": "stream",
     "text": [
      "+----------+\n",
      "|department|\n",
      "+----------+\n",
      "|     Sales|\n",
      "|        HR|\n",
      "|   Finance|\n",
      "|Purchasing|\n",
      "| Marketing|\n",
      "|  Accounts|\n",
      "+----------+\n",
      "\n"
     ]
    }
   ],
   "source": [
    "dp=df.select('department').distinct().show()\n"
   ]
  },
  {
   "cell_type": "code",
   "execution_count": 25,
   "id": "77ef3016-e0ed-4cb8-bb6a-6b7f6b26da8f",
   "metadata": {
    "tags": []
   },
   "outputs": [
    {
     "name": "stdout",
     "output_type": "stream",
     "text": [
      "+----------+---------------+\n",
      "|department|total employees|\n",
      "+----------+---------------+\n",
      "|     Sales|            169|\n",
      "|        HR|            171|\n",
      "|   Finance|            162|\n",
      "|Purchasing|            166|\n",
      "| Marketing|            170|\n",
      "|  Accounts|            162|\n",
      "+----------+---------------+\n",
      "\n"
     ]
    }
   ],
   "source": [
    "dp=df.groupBy('department').agg(count('*').alias('total employees')).show()"
   ]
  },
  {
   "cell_type": "code",
   "execution_count": 26,
   "id": "9177bb6e-3c07-4be6-a7c3-a7b7c55987ce",
   "metadata": {
    "tags": []
   },
   "outputs": [
    {
     "name": "stdout",
     "output_type": "stream",
     "text": [
      "+-----+---------------+\n",
      "|state|total employees|\n",
      "+-----+---------------+\n",
      "|   LA|            205|\n",
      "|   CA|            205|\n",
      "|   WA|            208|\n",
      "|   NY|            173|\n",
      "|   AK|            209|\n",
      "+-----+---------------+\n",
      "\n"
     ]
    }
   ],
   "source": [
    "dp=df.groupBy('state').agg(count('*').alias('total employees')).show()"
   ]
  },
  {
   "cell_type": "code",
   "execution_count": 28,
   "id": "66ec8fa1-310c-4a8d-bdb3-49ae4443c634",
   "metadata": {
    "tags": []
   },
   "outputs": [
    {
     "name": "stdout",
     "output_type": "stream",
     "text": [
      "+-----+----------+---------------+\n",
      "|state|department|total employees|\n",
      "+-----+----------+---------------+\n",
      "|   CA|     Sales|             42|\n",
      "|   CA| Marketing|             33|\n",
      "|   NY|  Accounts|             34|\n",
      "|   NY|     Sales|             27|\n",
      "|   CA|   Finance|             35|\n",
      "|   CA|  Accounts|             35|\n",
      "|   CA|Purchasing|             32|\n",
      "|   WA|        HR|             47|\n",
      "|   AK|Purchasing|             30|\n",
      "|   WA|  Accounts|             27|\n",
      "|   WA|Purchasing|             38|\n",
      "|   AK|     Sales|             38|\n",
      "|   AK|  Accounts|             37|\n",
      "|   WA| Marketing|             39|\n",
      "|   LA|        HR|             41|\n",
      "|   LA|     Sales|             35|\n",
      "|   AK|        HR|             25|\n",
      "|   LA|   Finance|             29|\n",
      "|   AK|   Finance|             37|\n",
      "|   LA|Purchasing|             45|\n",
      "+-----+----------+---------------+\n",
      "only showing top 20 rows\n",
      "\n"
     ]
    }
   ],
   "source": [
    "dp=df.groupBy('state','department').agg(count('*').alias('total employees')).show()"
   ]
  },
  {
   "cell_type": "code",
   "execution_count": 38,
   "id": "ed2a5dd9-bc90-485d-bc6f-a8eb98a61d2a",
   "metadata": {
    "tags": []
   },
   "outputs": [
    {
     "name": "stdout",
     "output_type": "stream",
     "text": [
      "+----------+-----------+-----------+\n",
      "|department|min(salary)|max(salary)|\n",
      "+----------+-----------+-----------+\n",
      "|     Sales|       1103|       9982|\n",
      "|        HR|       1013|       9982|\n",
      "|   Finance|       1006|       9899|\n",
      "|Purchasing|       1105|       9985|\n",
      "| Marketing|       1031|       9974|\n",
      "|  Accounts|       1007|       9890|\n",
      "+----------+-----------+-----------+\n",
      "\n"
     ]
    }
   ],
   "source": [
    "df.orderBy(df.salary.asc()).groupBy('department').agg(min('salary'), max('salary')).show()"
   ]
  },
  {
   "cell_type": "code",
   "execution_count": 56,
   "id": "ac4dae62-adb5-4bf3-b773-b01b308ea49a",
   "metadata": {
    "tags": []
   },
   "outputs": [
    {
     "name": "stdout",
     "output_type": "stream",
     "text": [
      "+-----------+--------------------+----------+-----+------+---+-----+\n",
      "|employee_id|       employee_name|department|state|salary|age|bonus|\n",
      "+-----------+--------------------+----------+-----+------+---+-----+\n",
      "|       1035|       Vivan Sifford|   Finance|   NY|  1129| 35| 1261|\n",
      "|       1073|      Herder Gallman|   Finance|   NY|  1988| 31| 1402|\n",
      "|       1082|          Nena Rocha|   Finance|   NY|  3417| 25| 1647|\n",
      "|       1087|       Leif Lemaster|   Finance|   NY|  8642| 45| 1782|\n",
      "|       1100|Ellingsworth Meli...|   Finance|   NY|  7845| 32| 1358|\n",
      "|       1127|        Escoto Gilma|   Finance|   NY|  3426| 41| 1285|\n",
      "|       1161|     Georgeanna Laub|   Finance|   NY|  2469| 26| 1679|\n",
      "|       1175|     Durio Tenenbaum|   Finance|   NY|  2253| 42| 1684|\n",
      "|       1180|       Juliana Grigg|   Finance|   NY|  8178| 42| 1617|\n",
      "|       1215|        Tiffani Benz|   Finance|   NY|  1665| 41| 1969|\n",
      "|       1220|          Nitz Ilana|   Finance|   NY|  2443| 50| 1342|\n",
      "|       1342|   Phylicia Antonina|   Finance|   NY|  8626| 30| 1857|\n",
      "|       1414|         Durio Janey|   Finance|   NY|  2992| 46| 1733|\n",
      "|       1660|       Melissia Jere|   Finance|   NY|  9201| 21| 1533|\n",
      "|       1737|      Yukiko Kreamer|   Finance|   NY|  7396| 20| 1332|\n",
      "|       1738|      Nena Kensinger|   Finance|   NY|  8534| 41| 1610|\n",
      "|       1815|      Antonina Ilana|   Finance|   NY|  2944| 28| 1718|\n",
      "+-----------+--------------------+----------+-----+------+---+-----+\n",
      "\n"
     ]
    }
   ],
   "source": [
    "bn=df.filter(df.state=='NY').groupBy('state').agg(avg('bonus').alias('avg'))\n",
    "av=bn.select('avg').collect()[0]['avg']\n",
    "df.filter((df.state=='NY') & (df.department=='Finance') & \n",
    "          (df.bonus> av)).show()"
   ]
  },
  {
   "cell_type": "code",
   "execution_count": 59,
   "id": "0b6e531e-fbc6-4a71-bd59-02c31fb13ae1",
   "metadata": {
    "tags": []
   },
   "outputs": [
    {
     "name": "stdout",
     "output_type": "stream",
     "text": [
      "+-----------+-------------------+----------+-----+------+---+-----+-------+\n",
      "|employee_id|      employee_name|department|state|salary|age|bonus|new sal|\n",
      "+-----------+-------------------+----------+-----+------+---+-----+-------+\n",
      "|       1000|          Nitz Leif| Marketing|   CA|  6131| 26|  543|   6131|\n",
      "|       1001|    Melissia Dedman|   Finance|   AK|  4027| 43| 1290|   4027|\n",
      "|       1002|  Rudolph Barringer|        HR|   LA|  3122| 43| 1445|   3122|\n",
      "|       1003|        Tamra Amber|  Accounts|   AK|  5717| 47| 1291|   6217|\n",
      "|       1004|        Mullan Nitz|Purchasing|   CA|  5685| 34| 1394|   5685|\n",
      "|       1005|      Zollner Karie|  Accounts|   CA|  2843| 27| 1078|   2843|\n",
      "|       1006|Kaczorowski Zollner|     Sales|   CA|  7201| 21| 1834|   7201|\n",
      "|       1007|      Nakano Locust| Marketing|   LA|  3444| 23| 1823|   3444|\n",
      "|       1008|  Recalde Kensinger|  Accounts|   LA|  3704| 48| 1330|   4204|\n",
      "|       1009|        Imai Hallie|  Accounts|   AK|  5061| 38| 1557|   5061|\n",
      "|       1010|    Debroah Gallman|  Accounts|   NY|  9308| 35|  817|   9308|\n",
      "|       1011|   Barringer Escoto|Purchasing|   WA|  1685| 49| 1706|   2185|\n",
      "|       1012|      Soules Coogan|  Accounts|   AK|  8330| 43| 1914|   8330|\n",
      "|       1013|      Luisa Suzanne|  Accounts|   CA|  1151| 37| 1095|   1151|\n",
      "|       1014|      Marvis Cobian|Purchasing|   NY|  5061| 41| 1765|   5061|\n",
      "|       1015|   Cobian Kensinger|     Sales|   LA|  1983| 21|  632|   1983|\n",
      "|       1016|      Gilma Margret| Marketing|   CA|  2919| 45| 1762|   2919|\n",
      "|       1017| Ellingsworth Ilana|  Accounts|   WA|  9614| 26| 1964|   9614|\n",
      "|       1018| Vankirk Jacquelyne|Purchasing|   NY|  8636| 47| 1192|   9136|\n",
      "|       1019|    Zollner Juliana|        HR|   NY|  9739| 30| 1119|   9739|\n",
      "+-----------+-------------------+----------+-----+------+---+-----+-------+\n",
      "only showing top 20 rows\n",
      "\n"
     ]
    }
   ],
   "source": [
    "def raisesal(salary,age):\n",
    "    if age>45:\n",
    "        return salary+500\n",
    "    else:\n",
    "        return salary\n",
    "    \n",
    "salRaise=udf(lambda x,y: raisesal(x,y),IntegerType())\n",
    "df.withColumn('new sal',salRaise(df.salary,df.age)).show()"
   ]
  },
  {
   "cell_type": "code",
   "execution_count": 65,
   "id": "15a541a5-34ec-4236-9e61-c200494abdd2",
   "metadata": {
    "tags": []
   },
   "outputs": [],
   "source": [
    "df.filter(df.age>45).write.option('header',True).mode('append').csv('Files/Employeewithage45')"
   ]
  },
  {
   "cell_type": "code",
   "execution_count": 66,
   "id": "3bd918d5-4f0e-4a91-811d-8c5b0037bd17",
   "metadata": {
    "tags": []
   },
   "outputs": [
    {
     "name": "stdout",
     "output_type": "stream",
     "text": [
      "+-----------+------------------+----------+-----+------+---+-----+\n",
      "|employee_id|     employee_name|department|state|salary|age|bonus|\n",
      "+-----------+------------------+----------+-----+------+---+-----+\n",
      "|       1003|       Tamra Amber|  Accounts|   AK|  5717| 47| 1291|\n",
      "|       1008| Recalde Kensinger|  Accounts|   LA|  3704| 48| 1330|\n",
      "|       1011|  Barringer Escoto|Purchasing|   WA|  1685| 49| 1706|\n",
      "|       1018|Vankirk Jacquelyne|Purchasing|   NY|  8636| 47| 1192|\n",
      "|       1025|   Dionne Lemaster|     Sales|   AK|  5134| 48| 1356|\n",
      "|       1030|        Trena Benz|  Accounts|   NY|  4376| 49| 1624|\n",
      "|       1039|      Dynes Katlyn|  Accounts|   AK|  3039| 48|  834|\n",
      "|       1058|      Clune Norene|   Finance|   AK|  1605| 49|  801|\n",
      "|       1074|      Rocha Dionne|  Accounts|   CA|  3470| 49|  706|\n",
      "|       1088|       Imai Locust|     Sales|   NY|  9982| 49| 1809|\n",
      "|       1090| Clemencia Rudolph|   Finance|   NY|  1296| 50| 1209|\n",
      "|       1099|    Zollner Marvis|Purchasing|   CA|  4230| 50|  951|\n",
      "|       1118|     Kohn Antonina|     Sales|   CA|  9311| 48| 1229|\n",
      "|       1126|     Norene Mayeda|  Accounts|   LA|  3100| 50| 1333|\n",
      "|       1136|      Jaclyn Baros|     Sales|   LA|  1699| 48| 1094|\n",
      "|       1164|    Gallman Nakano|     Sales|   CA|  6813| 47|  857|\n",
      "|       1165|       Luisa Grigg|Purchasing|   AK|  9297| 48| 1545|\n",
      "|       1169|   Kreamer Shandra|        HR|   WA|  4968| 46|  889|\n",
      "|       1170|     Fender Coogan| Marketing|   AK|  1151| 50| 1845|\n",
      "|       1183|  Lonergan Bergren|        HR|   NY|  8175| 46| 1730|\n",
      "+-----------+------------------+----------+-----+------+---+-----+\n",
      "only showing top 20 rows\n",
      "\n"
     ]
    }
   ],
   "source": [
    "spark.read.option('header',True).csv('Files/Employeewithage45/*').show()"
   ]
  }
 ],
 "metadata": {
  "kernelspec": {
   "display_name": "Python 3 (ipykernel)",
   "language": "python",
   "name": "python3"
  },
  "language_info": {
   "codemirror_mode": {
    "name": "ipython",
    "version": 3
   },
   "file_extension": ".py",
   "mimetype": "text/x-python",
   "name": "python",
   "nbconvert_exporter": "python",
   "pygments_lexer": "ipython3",
   "version": "3.11.5"
  }
 },
 "nbformat": 4,
 "nbformat_minor": 5
}
