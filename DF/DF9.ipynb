{
 "cells": [
  {
   "cell_type": "code",
   "execution_count": 1,
   "id": "561181f1-80d8-4b8e-93c0-8400241b3dc3",
   "metadata": {
    "tags": []
   },
   "outputs": [
    {
     "name": "stderr",
     "output_type": "stream",
     "text": [
      "Setting default log level to \"WARN\".\n",
      "To adjust logging level use sc.setLogLevel(newLevel). For SparkR, use setLogLevel(newLevel).\n",
      "24/11/12 21:26:17 WARN NativeCodeLoader: Unable to load native-hadoop library for your platform... using builtin-java classes where applicable\n"
     ]
    },
    {
     "name": "stdout",
     "output_type": "stream",
     "text": [
      "+---+------+----------------+------+------+-----+--------------------+\n",
      "|age|gender|            name|course|  roll|marks|               email|\n",
      "+---+------+----------------+------+------+-----+--------------------+\n",
      "| 28|Female| Hubert Oliveras|    DB|  2984|   59|Annika Hoffman_Na...|\n",
      "| 29|Female|Toshiko Hillyard| Cloud| 12899|   62|Margene Moores_Ma...|\n",
      "| 28|  Male|  Celeste Lollis|    PF| 21267|   45|Jeannetta Golden_...|\n",
      "| 29|Female|    Elenore Choy|    DB| 32877|   29|Billi Clore_Mitzi...|\n",
      "| 28|  Male|  Sheryll Towler|   DSA| 41487|   41|Claude Panos_Judi...|\n",
      "| 28|  Male|  Margene Moores|   MVC| 52771|   32|Toshiko Hillyard_...|\n",
      "| 28|  Male|     Neda Briski|   OOP| 61973|   69|Alberta Freund_El...|\n",
      "| 28|Female|    Claude Panos| Cloud| 72409|   85|Sheryll Towler_Al...|\n",
      "| 28|  Male|  Celeste Lollis|   MVC| 81492|   64|Nicole Harwood_Cl...|\n",
      "| 29|  Male|  Cordie Harnois|   OOP| 92882|   51|Judie Chipps_Clem...|\n",
      "| 29|Female|       Kena Wild|   DSA|102285|   35|Dustin Feagins_Ma...|\n",
      "| 29|  Male| Ernest Rossbach|    DB|111449|   53|Maybell Duguay_Ab...|\n",
      "| 28|Female|  Latia Vanhoose|    DB|122502|   27|Latia Vanhoose_Mi...|\n",
      "| 29|Female|  Latia Vanhoose|   MVC|132110|   55|Eda Neathery_Nico...|\n",
      "| 29|  Male|     Neda Briski|    PF|141770|   42|Margene Moores_Mi...|\n",
      "| 29|Female|  Latia Vanhoose|    DB|152159|   27|Claude Panos_Sant...|\n",
      "| 29|  Male|  Loris Crossett|   MVC|161771|   36|Mitzi Seldon_Jenn...|\n",
      "| 29|  Male|  Annika Hoffman|   OOP|171660|   22|Taryn Brownlee_Mi...|\n",
      "| 29|  Male|   Santa Kerfien|    PF|182129|   56|Judie Chipps_Tary...|\n",
      "| 28|Female|Mickey Cortright|    DB|192537|   62|Ernest Rossbach_M...|\n",
      "+---+------+----------------+------+------+-----+--------------------+\n",
      "only showing top 20 rows\n",
      "\n"
     ]
    }
   ],
   "source": [
    "from pyspark.sql import SparkSession\n",
    "from pyspark.sql.functions import lit,col,count,min,max,avg,sum\n",
    "spark=SparkSession.builder.appName(\"Sort\").getOrCreate()\n",
    "df=spark.read.options(header=True, inferSchema=True).csv('Files/StudentData.csv')\n",
    "df.show()"
   ]
  },
  {
   "cell_type": "code",
   "execution_count": 2,
   "id": "42abedab-0965-47b9-8c43-469bb1957c35",
   "metadata": {
    "tags": []
   },
   "outputs": [
    {
     "name": "stdout",
     "output_type": "stream",
     "text": [
      "+------+----------+\n",
      "|gender|sum(marks)|\n",
      "+------+----------+\n",
      "|Female|     29636|\n",
      "|  Male|     30461|\n",
      "+------+----------+\n",
      "\n",
      "+------+-----------+\n",
      "|gender|Marks Total|\n",
      "+------+-----------+\n",
      "|Female|      29636|\n",
      "|  Male|      30461|\n",
      "+------+-----------+\n",
      "\n"
     ]
    }
   ],
   "source": [
    "df1=df.groupBy('gender').sum('marks')\n",
    "df1.show()\n",
    "df1.withColumnRenamed('sum(marks)','Marks Total').show()"
   ]
  },
  {
   "cell_type": "code",
   "execution_count": 3,
   "id": "1f4818d1-6e28-459a-8a3e-b9a8204c0d6a",
   "metadata": {
    "tags": []
   },
   "outputs": [
    {
     "name": "stdout",
     "output_type": "stream",
     "text": [
      "+------+-----+\n",
      "|course|count|\n",
      "+------+-----+\n",
      "|    PF|  166|\n",
      "|    DB|  157|\n",
      "|   MVC|  157|\n",
      "|   DSA|  176|\n",
      "| Cloud|  192|\n",
      "|   OOP|  152|\n",
      "+------+-----+\n",
      "\n",
      "+------+-----+\n",
      "|gender|count|\n",
      "+------+-----+\n",
      "|Female|  501|\n",
      "|  Male|  499|\n",
      "+------+-----+\n",
      "\n",
      "+------+----------+\n",
      "|course|sum(marks)|\n",
      "+------+----------+\n",
      "|    PF|      9933|\n",
      "|    DB|      9270|\n",
      "|   MVC|      9585|\n",
      "|   DSA|     10950|\n",
      "| Cloud|     11443|\n",
      "|   OOP|      8916|\n",
      "+------+----------+\n",
      "\n"
     ]
    }
   ],
   "source": [
    "df.groupBy('course').count().show()\n",
    "df.groupBy('gender').count().show()\n",
    "df.groupBy('course').sum('marks').show()\n"
   ]
  },
  {
   "cell_type": "code",
   "execution_count": 4,
   "id": "1c749dbd-47b8-42cd-a2cf-40a79ac35f93",
   "metadata": {
    "tags": []
   },
   "outputs": [
    {
     "name": "stdout",
     "output_type": "stream",
     "text": [
      "+------+----------+\n",
      "|gender|max(marks)|\n",
      "+------+----------+\n",
      "|Female|        99|\n",
      "|  Male|        99|\n",
      "+------+----------+\n",
      "\n",
      "+------+----------+\n",
      "|gender|min(marks)|\n",
      "+------+----------+\n",
      "|Female|        20|\n",
      "|  Male|        20|\n",
      "+------+----------+\n",
      "\n",
      "+------+------------------+\n",
      "|gender|        avg(marks)|\n",
      "+------+------------------+\n",
      "|Female|59.153692614770456|\n",
      "|  Male| 61.04408817635271|\n",
      "+------+------------------+\n",
      "\n"
     ]
    }
   ],
   "source": [
    "df.groupBy('gender').max('marks').show()\n",
    "df.groupBy('gender').min('marks').show()\n",
    "df.groupBy('gender').mean('marks').show()"
   ]
  },
  {
   "cell_type": "code",
   "execution_count": 5,
   "id": "ccb679f8-aee2-46fc-9d7b-7dd4cf959f61",
   "metadata": {
    "tags": []
   },
   "outputs": [
    {
     "name": "stdout",
     "output_type": "stream",
     "text": [
      "+---+------------------+\n",
      "|age|        avg(marks)|\n",
      "+---+------------------+\n",
      "| 28|60.487854251012145|\n",
      "| 29|59.715415019762844|\n",
      "+---+------------------+\n",
      "\n",
      "+---+------------------+\n",
      "|age|        avg(marks)|\n",
      "+---+------------------+\n",
      "| 28|60.487854251012145|\n",
      "| 29|59.715415019762844|\n",
      "+---+------------------+\n",
      "\n"
     ]
    }
   ],
   "source": [
    "df.groupBy('age').avg('marks').show()\n",
    "df.groupBy('age').mean('marks').show()"
   ]
  },
  {
   "cell_type": "code",
   "execution_count": 6,
   "id": "14adfaf8-3ad8-40b4-8b47-33376df5d829",
   "metadata": {
    "tags": []
   },
   "outputs": [
    {
     "name": "stdout",
     "output_type": "stream",
     "text": [
      "+------+------+-----+\n",
      "|course|gender|count|\n",
      "+------+------+-----+\n",
      "|   OOP|  Male|   70|\n",
      "|    DB|  Male|   82|\n",
      "| Cloud|Female|  106|\n",
      "|   MVC|  Male|   86|\n",
      "|   DSA|Female|   98|\n",
      "|    PF|  Male|   97|\n",
      "|   MVC|Female|   71|\n",
      "| Cloud|  Male|   86|\n",
      "|    PF|Female|   69|\n",
      "|   DSA|  Male|   78|\n",
      "|    DB|Female|   75|\n",
      "|   OOP|Female|   82|\n",
      "+------+------+-----+\n",
      "\n"
     ]
    }
   ],
   "source": [
    "df.groupBy('course','gender').count().show()"
   ]
  },
  {
   "cell_type": "code",
   "execution_count": 7,
   "id": "04f194be-16a5-466d-984c-fc6440dc2437",
   "metadata": {
    "tags": []
   },
   "outputs": [
    {
     "name": "stdout",
     "output_type": "stream",
     "text": [
      "+------+--------+----------+----------+----------+------------------+\n",
      "|course|count(1)|sum(marks)|min(marks)|max(marks)|        avg(marks)|\n",
      "+------+--------+----------+----------+----------+------------------+\n",
      "|    PF|     166|      9933|        20|        99| 59.83734939759036|\n",
      "|    DB|     157|      9270|        20|        98|59.044585987261144|\n",
      "|   MVC|     157|      9585|        22|        99| 61.05095541401274|\n",
      "|   DSA|     176|     10950|        20|        99| 62.21590909090909|\n",
      "| Cloud|     192|     11443|        20|        99|59.598958333333336|\n",
      "|   OOP|     152|      8916|        20|        99|  58.6578947368421|\n",
      "+------+--------+----------+----------+----------+------------------+\n",
      "\n"
     ]
    }
   ],
   "source": [
    "df.groupBy('course').agg(count('*'), sum('marks'), min('marks'), max('marks'), avg('marks')).show()"
   ]
  },
  {
   "cell_type": "code",
   "execution_count": 8,
   "id": "fe965b4f-1d56-4083-a69f-2d104bca759b",
   "metadata": {
    "tags": []
   },
   "outputs": [
    {
     "name": "stdout",
     "output_type": "stream",
     "text": [
      "+------+-------------+-----------+---------+---------+------------------+\n",
      "|course|Total student|Total Marks|Min Marks|Max Marks|               Avg|\n",
      "+------+-------------+-----------+---------+---------+------------------+\n",
      "|    PF|          166|       9933|       20|       99| 59.83734939759036|\n",
      "|    DB|          157|       9270|       20|       98|59.044585987261144|\n",
      "|   MVC|          157|       9585|       22|       99| 61.05095541401274|\n",
      "|   DSA|          176|      10950|       20|       99| 62.21590909090909|\n",
      "| Cloud|          192|      11443|       20|       99|59.598958333333336|\n",
      "|   OOP|          152|       8916|       20|       99|  58.6578947368421|\n",
      "+------+-------------+-----------+---------+---------+------------------+\n",
      "\n"
     ]
    }
   ],
   "source": [
    "df.groupBy('course').agg(count('*').alias('Total student'), sum('marks').alias('Total Marks'), min('marks').alias('Min Marks'), max('marks').alias('Max Marks'), avg('marks').alias('Avg')).show()"
   ]
  },
  {
   "cell_type": "code",
   "execution_count": 9,
   "id": "8e6bc91d-10ef-490c-9f53-940e0ad8d584",
   "metadata": {
    "tags": []
   },
   "outputs": [
    {
     "name": "stdout",
     "output_type": "stream",
     "text": [
      "+------+------+-------------+-----------+---------+---------+------------------+\n",
      "|course|gender|Total student|Total Marks|Min Marks|Max Marks|               Avg|\n",
      "+------+------+-------------+-----------+---------+---------+------------------+\n",
      "|   OOP|  Male|           70|       4234|       20|       99| 60.48571428571429|\n",
      "|    DB|  Male|           82|       5073|       20|       98| 61.86585365853659|\n",
      "| Cloud|Female|          106|       6316|       20|       99| 59.58490566037736|\n",
      "|   MVC|  Male|           86|       5241|       22|       99| 60.94186046511628|\n",
      "|   DSA|Female|           98|       6124|       20|       99| 62.48979591836735|\n",
      "|    PF|  Male|           97|       5960|       20|       99| 61.44329896907217|\n",
      "|   MVC|Female|           71|       4344|       22|       99|61.183098591549296|\n",
      "| Cloud|  Male|           86|       5127|       21|       97|59.616279069767444|\n",
      "|    PF|Female|           69|       3973|       20|       99| 57.57971014492754|\n",
      "|   DSA|  Male|           78|       4826|       20|       99| 61.87179487179487|\n",
      "|    DB|Female|           75|       4197|       20|       96|             55.96|\n",
      "|   OOP|Female|           82|       4682|       21|       99| 57.09756097560975|\n",
      "+------+------+-------------+-----------+---------+---------+------------------+\n",
      "\n"
     ]
    }
   ],
   "source": [
    "df.groupBy('course','gender').agg(count('*').alias('Total student'), sum('marks').alias('Total Marks'), min('marks').alias('Min Marks'), max('marks').alias('Max Marks'), avg('marks').alias('Avg')).show()"
   ]
  },
  {
   "cell_type": "code",
   "execution_count": null,
   "id": "b2a0aef9-aa3b-4433-955e-ffe712ca401b",
   "metadata": {},
   "outputs": [],
   "source": []
  },
  {
   "cell_type": "code",
   "execution_count": null,
   "id": "cdf1a890-1cf9-4e16-964a-715ff89954b6",
   "metadata": {},
   "outputs": [],
   "source": []
  }
 ],
 "metadata": {
  "kernelspec": {
   "display_name": "Python 3 (ipykernel)",
   "language": "python",
   "name": "python3"
  },
  "language_info": {
   "codemirror_mode": {
    "name": "ipython",
    "version": 3
   },
   "file_extension": ".py",
   "mimetype": "text/x-python",
   "name": "python",
   "nbconvert_exporter": "python",
   "pygments_lexer": "ipython3",
   "version": "3.11.5"
  }
 },
 "nbformat": 4,
 "nbformat_minor": 5
}
