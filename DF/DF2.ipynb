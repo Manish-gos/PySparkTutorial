{
 "cells": [
  {
   "cell_type": "code",
   "execution_count": 2,
   "id": "465adc7f-3fae-469c-9f44-35fe5322ef19",
   "metadata": {
    "tags": []
   },
   "outputs": [
    {
     "name": "stdout",
     "output_type": "stream",
     "text": [
      "+---+------+----------------+------+------+-----+--------------------+\n",
      "|age|gender|            name|course|  roll|marks|               email|\n",
      "+---+------+----------------+------+------+-----+--------------------+\n",
      "| 28|Female| Hubert Oliveras|    DB| 02984|   59|Annika Hoffman_Na...|\n",
      "| 29|Female|Toshiko Hillyard| Cloud| 12899|   62|Margene Moores_Ma...|\n",
      "| 28|  Male|  Celeste Lollis|    PF| 21267|   45|Jeannetta Golden_...|\n",
      "| 29|Female|    Elenore Choy|    DB| 32877|   29|Billi Clore_Mitzi...|\n",
      "| 28|  Male|  Sheryll Towler|   DSA| 41487|   41|Claude Panos_Judi...|\n",
      "| 28|  Male|  Margene Moores|   MVC| 52771|   32|Toshiko Hillyard_...|\n",
      "| 28|  Male|     Neda Briski|   OOP| 61973|   69|Alberta Freund_El...|\n",
      "| 28|Female|    Claude Panos| Cloud| 72409|   85|Sheryll Towler_Al...|\n",
      "| 28|  Male|  Celeste Lollis|   MVC| 81492|   64|Nicole Harwood_Cl...|\n",
      "| 29|  Male|  Cordie Harnois|   OOP| 92882|   51|Judie Chipps_Clem...|\n",
      "| 29|Female|       Kena Wild|   DSA|102285|   35|Dustin Feagins_Ma...|\n",
      "| 29|  Male| Ernest Rossbach|    DB|111449|   53|Maybell Duguay_Ab...|\n",
      "| 28|Female|  Latia Vanhoose|    DB|122502|   27|Latia Vanhoose_Mi...|\n",
      "| 29|Female|  Latia Vanhoose|   MVC|132110|   55|Eda Neathery_Nico...|\n",
      "| 29|  Male|     Neda Briski|    PF|141770|   42|Margene Moores_Mi...|\n",
      "| 29|Female|  Latia Vanhoose|    DB|152159|   27|Claude Panos_Sant...|\n",
      "| 29|  Male|  Loris Crossett|   MVC|161771|   36|Mitzi Seldon_Jenn...|\n",
      "| 29|  Male|  Annika Hoffman|   OOP|171660|   22|Taryn Brownlee_Mi...|\n",
      "| 29|  Male|   Santa Kerfien|    PF|182129|   56|Judie Chipps_Tary...|\n",
      "| 28|Female|Mickey Cortright|    DB|192537|   62|Ernest Rossbach_M...|\n",
      "+---+------+----------------+------+------+-----+--------------------+\n",
      "only showing top 20 rows\n",
      "\n"
     ]
    }
   ],
   "source": [
    "from pyspark.sql import SparkSession\n",
    "spark=SparkSession.builder.appName('RDD2').getOrCreate()\n",
    "df=spark.read.option('header',True).csv('Files/StudentData.csv')\n",
    "df.show()"
   ]
  },
  {
   "cell_type": "code",
   "execution_count": 3,
   "id": "f58c6606-756f-4dde-b6f5-95a74e5ffd4e",
   "metadata": {
    "tags": []
   },
   "outputs": [
    {
     "name": "stdout",
     "output_type": "stream",
     "text": [
      "+------+---+\n",
      "|gender|age|\n",
      "+------+---+\n",
      "|Female| 28|\n",
      "|Female| 29|\n",
      "|  Male| 28|\n",
      "|Female| 29|\n",
      "|  Male| 28|\n",
      "|  Male| 28|\n",
      "|  Male| 28|\n",
      "|Female| 28|\n",
      "|  Male| 28|\n",
      "|  Male| 29|\n",
      "|Female| 29|\n",
      "|  Male| 29|\n",
      "|Female| 28|\n",
      "|Female| 29|\n",
      "|  Male| 29|\n",
      "|Female| 29|\n",
      "|  Male| 29|\n",
      "|  Male| 29|\n",
      "|  Male| 29|\n",
      "|Female| 28|\n",
      "+------+---+\n",
      "only showing top 20 rows\n",
      "\n"
     ]
    }
   ],
   "source": [
    "df.select('gender','age').show()"
   ]
  },
  {
   "cell_type": "code",
   "execution_count": 4,
   "id": "a6dc9196-db57-4888-96ea-767fb21d50a1",
   "metadata": {
    "tags": []
   },
   "outputs": [
    {
     "name": "stdout",
     "output_type": "stream",
     "text": [
      "+----------------+--------------------+\n",
      "|            name|               email|\n",
      "+----------------+--------------------+\n",
      "| Hubert Oliveras|Annika Hoffman_Na...|\n",
      "|Toshiko Hillyard|Margene Moores_Ma...|\n",
      "|  Celeste Lollis|Jeannetta Golden_...|\n",
      "|    Elenore Choy|Billi Clore_Mitzi...|\n",
      "|  Sheryll Towler|Claude Panos_Judi...|\n",
      "|  Margene Moores|Toshiko Hillyard_...|\n",
      "|     Neda Briski|Alberta Freund_El...|\n",
      "|    Claude Panos|Sheryll Towler_Al...|\n",
      "|  Celeste Lollis|Nicole Harwood_Cl...|\n",
      "|  Cordie Harnois|Judie Chipps_Clem...|\n",
      "|       Kena Wild|Dustin Feagins_Ma...|\n",
      "| Ernest Rossbach|Maybell Duguay_Ab...|\n",
      "|  Latia Vanhoose|Latia Vanhoose_Mi...|\n",
      "|  Latia Vanhoose|Eda Neathery_Nico...|\n",
      "|     Neda Briski|Margene Moores_Mi...|\n",
      "|  Latia Vanhoose|Claude Panos_Sant...|\n",
      "|  Loris Crossett|Mitzi Seldon_Jenn...|\n",
      "|  Annika Hoffman|Taryn Brownlee_Mi...|\n",
      "|   Santa Kerfien|Judie Chipps_Tary...|\n",
      "|Mickey Cortright|Ernest Rossbach_M...|\n",
      "+----------------+--------------------+\n",
      "only showing top 20 rows\n",
      "\n"
     ]
    }
   ],
   "source": [
    "df.select(df.name,df.email).show()"
   ]
  },
  {
   "cell_type": "code",
   "execution_count": 5,
   "id": "f9927994-6a3b-4abd-b3f7-69ab92f90e7c",
   "metadata": {
    "tags": []
   },
   "outputs": [
    {
     "name": "stdout",
     "output_type": "stream",
     "text": [
      "+----------------+---+\n",
      "|            name|age|\n",
      "+----------------+---+\n",
      "| Hubert Oliveras| 28|\n",
      "|Toshiko Hillyard| 29|\n",
      "|  Celeste Lollis| 28|\n",
      "|    Elenore Choy| 29|\n",
      "|  Sheryll Towler| 28|\n",
      "|  Margene Moores| 28|\n",
      "|     Neda Briski| 28|\n",
      "|    Claude Panos| 28|\n",
      "|  Celeste Lollis| 28|\n",
      "|  Cordie Harnois| 29|\n",
      "|       Kena Wild| 29|\n",
      "| Ernest Rossbach| 29|\n",
      "|  Latia Vanhoose| 28|\n",
      "|  Latia Vanhoose| 29|\n",
      "|     Neda Briski| 29|\n",
      "|  Latia Vanhoose| 29|\n",
      "|  Loris Crossett| 29|\n",
      "|  Annika Hoffman| 29|\n",
      "|   Santa Kerfien| 29|\n",
      "|Mickey Cortright| 28|\n",
      "+----------------+---+\n",
      "only showing top 20 rows\n",
      "\n"
     ]
    }
   ],
   "source": [
    "from pyspark.sql.functions import col\n",
    "df.select(col(\"name\"),col(\"age\")).show()"
   ]
  },
  {
   "cell_type": "code",
   "execution_count": 6,
   "id": "dff66781-db79-41f7-a587-7c3c2eb5d12b",
   "metadata": {
    "tags": []
   },
   "outputs": [
    {
     "name": "stdout",
     "output_type": "stream",
     "text": [
      "+---+------+----------------+------+------+-----+--------------------+\n",
      "|age|gender|            name|course|  roll|marks|               email|\n",
      "+---+------+----------------+------+------+-----+--------------------+\n",
      "| 28|Female| Hubert Oliveras|    DB| 02984|   59|Annika Hoffman_Na...|\n",
      "| 29|Female|Toshiko Hillyard| Cloud| 12899|   62|Margene Moores_Ma...|\n",
      "| 28|  Male|  Celeste Lollis|    PF| 21267|   45|Jeannetta Golden_...|\n",
      "| 29|Female|    Elenore Choy|    DB| 32877|   29|Billi Clore_Mitzi...|\n",
      "| 28|  Male|  Sheryll Towler|   DSA| 41487|   41|Claude Panos_Judi...|\n",
      "| 28|  Male|  Margene Moores|   MVC| 52771|   32|Toshiko Hillyard_...|\n",
      "| 28|  Male|     Neda Briski|   OOP| 61973|   69|Alberta Freund_El...|\n",
      "| 28|Female|    Claude Panos| Cloud| 72409|   85|Sheryll Towler_Al...|\n",
      "| 28|  Male|  Celeste Lollis|   MVC| 81492|   64|Nicole Harwood_Cl...|\n",
      "| 29|  Male|  Cordie Harnois|   OOP| 92882|   51|Judie Chipps_Clem...|\n",
      "| 29|Female|       Kena Wild|   DSA|102285|   35|Dustin Feagins_Ma...|\n",
      "| 29|  Male| Ernest Rossbach|    DB|111449|   53|Maybell Duguay_Ab...|\n",
      "| 28|Female|  Latia Vanhoose|    DB|122502|   27|Latia Vanhoose_Mi...|\n",
      "| 29|Female|  Latia Vanhoose|   MVC|132110|   55|Eda Neathery_Nico...|\n",
      "| 29|  Male|     Neda Briski|    PF|141770|   42|Margene Moores_Mi...|\n",
      "| 29|Female|  Latia Vanhoose|    DB|152159|   27|Claude Panos_Sant...|\n",
      "| 29|  Male|  Loris Crossett|   MVC|161771|   36|Mitzi Seldon_Jenn...|\n",
      "| 29|  Male|  Annika Hoffman|   OOP|171660|   22|Taryn Brownlee_Mi...|\n",
      "| 29|  Male|   Santa Kerfien|    PF|182129|   56|Judie Chipps_Tary...|\n",
      "| 28|Female|Mickey Cortright|    DB|192537|   62|Ernest Rossbach_M...|\n",
      "+---+------+----------------+------+------+-----+--------------------+\n",
      "only showing top 20 rows\n",
      "\n"
     ]
    }
   ],
   "source": [
    "df.select(\"*\").show()"
   ]
  },
  {
   "cell_type": "code",
   "execution_count": 7,
   "id": "b8172a43-2498-4ec9-b335-a9c702ba9564",
   "metadata": {
    "tags": []
   },
   "outputs": [
    {
     "data": {
      "text/plain": [
       "['age', 'gender', 'name', 'course', 'roll', 'marks', 'email']"
      ]
     },
     "execution_count": 7,
     "metadata": {},
     "output_type": "execute_result"
    }
   ],
   "source": [
    "df.columns"
   ]
  },
  {
   "cell_type": "code",
   "execution_count": 8,
   "id": "38dbad07-5b91-4779-a9df-f29bffb1dd25",
   "metadata": {
    "tags": []
   },
   "outputs": [
    {
     "name": "stdout",
     "output_type": "stream",
     "text": [
      "+---+------+----------------+------+------+-----+--------------------+\n",
      "|age|gender|            name|course|  roll|marks|               email|\n",
      "+---+------+----------------+------+------+-----+--------------------+\n",
      "| 28|Female| Hubert Oliveras|    DB| 02984|   59|Annika Hoffman_Na...|\n",
      "| 29|Female|Toshiko Hillyard| Cloud| 12899|   62|Margene Moores_Ma...|\n",
      "| 28|  Male|  Celeste Lollis|    PF| 21267|   45|Jeannetta Golden_...|\n",
      "| 29|Female|    Elenore Choy|    DB| 32877|   29|Billi Clore_Mitzi...|\n",
      "| 28|  Male|  Sheryll Towler|   DSA| 41487|   41|Claude Panos_Judi...|\n",
      "| 28|  Male|  Margene Moores|   MVC| 52771|   32|Toshiko Hillyard_...|\n",
      "| 28|  Male|     Neda Briski|   OOP| 61973|   69|Alberta Freund_El...|\n",
      "| 28|Female|    Claude Panos| Cloud| 72409|   85|Sheryll Towler_Al...|\n",
      "| 28|  Male|  Celeste Lollis|   MVC| 81492|   64|Nicole Harwood_Cl...|\n",
      "| 29|  Male|  Cordie Harnois|   OOP| 92882|   51|Judie Chipps_Clem...|\n",
      "| 29|Female|       Kena Wild|   DSA|102285|   35|Dustin Feagins_Ma...|\n",
      "| 29|  Male| Ernest Rossbach|    DB|111449|   53|Maybell Duguay_Ab...|\n",
      "| 28|Female|  Latia Vanhoose|    DB|122502|   27|Latia Vanhoose_Mi...|\n",
      "| 29|Female|  Latia Vanhoose|   MVC|132110|   55|Eda Neathery_Nico...|\n",
      "| 29|  Male|     Neda Briski|    PF|141770|   42|Margene Moores_Mi...|\n",
      "| 29|Female|  Latia Vanhoose|    DB|152159|   27|Claude Panos_Sant...|\n",
      "| 29|  Male|  Loris Crossett|   MVC|161771|   36|Mitzi Seldon_Jenn...|\n",
      "| 29|  Male|  Annika Hoffman|   OOP|171660|   22|Taryn Brownlee_Mi...|\n",
      "| 29|  Male|   Santa Kerfien|    PF|182129|   56|Judie Chipps_Tary...|\n",
      "| 28|Female|Mickey Cortright|    DB|192537|   62|Ernest Rossbach_M...|\n",
      "+---+------+----------------+------+------+-----+--------------------+\n",
      "only showing top 20 rows\n",
      "\n"
     ]
    }
   ],
   "source": [
    "df.select(df.columns).show()"
   ]
  },
  {
   "cell_type": "code",
   "execution_count": 9,
   "id": "e909df38-fdcd-4ea0-b4a4-17e997a43b90",
   "metadata": {
    "tags": []
   },
   "outputs": [
    {
     "name": "stdout",
     "output_type": "stream",
     "text": [
      "+---+------+\n",
      "|age|gender|\n",
      "+---+------+\n",
      "| 28|Female|\n",
      "| 29|Female|\n",
      "| 28|  Male|\n",
      "| 29|Female|\n",
      "| 28|  Male|\n",
      "| 28|  Male|\n",
      "| 28|  Male|\n",
      "| 28|Female|\n",
      "| 28|  Male|\n",
      "| 29|  Male|\n",
      "| 29|Female|\n",
      "| 29|  Male|\n",
      "| 28|Female|\n",
      "| 29|Female|\n",
      "| 29|  Male|\n",
      "| 29|Female|\n",
      "| 29|  Male|\n",
      "| 29|  Male|\n",
      "| 29|  Male|\n",
      "| 28|Female|\n",
      "+---+------+\n",
      "only showing top 20 rows\n",
      "\n"
     ]
    }
   ],
   "source": [
    "df.select(df.columns[:2]).show()"
   ]
  },
  {
   "cell_type": "code",
   "execution_count": 10,
   "id": "4ed5fb2d-7e33-41e7-b0e4-537a0854cbb7",
   "metadata": {
    "tags": []
   },
   "outputs": [
    {
     "name": "stdout",
     "output_type": "stream",
     "text": [
      "+----------------+------+------+-----+--------------------+\n",
      "|            name|course|  roll|marks|               email|\n",
      "+----------------+------+------+-----+--------------------+\n",
      "| Hubert Oliveras|    DB| 02984|   59|Annika Hoffman_Na...|\n",
      "|Toshiko Hillyard| Cloud| 12899|   62|Margene Moores_Ma...|\n",
      "|  Celeste Lollis|    PF| 21267|   45|Jeannetta Golden_...|\n",
      "|    Elenore Choy|    DB| 32877|   29|Billi Clore_Mitzi...|\n",
      "|  Sheryll Towler|   DSA| 41487|   41|Claude Panos_Judi...|\n",
      "|  Margene Moores|   MVC| 52771|   32|Toshiko Hillyard_...|\n",
      "|     Neda Briski|   OOP| 61973|   69|Alberta Freund_El...|\n",
      "|    Claude Panos| Cloud| 72409|   85|Sheryll Towler_Al...|\n",
      "|  Celeste Lollis|   MVC| 81492|   64|Nicole Harwood_Cl...|\n",
      "|  Cordie Harnois|   OOP| 92882|   51|Judie Chipps_Clem...|\n",
      "|       Kena Wild|   DSA|102285|   35|Dustin Feagins_Ma...|\n",
      "| Ernest Rossbach|    DB|111449|   53|Maybell Duguay_Ab...|\n",
      "|  Latia Vanhoose|    DB|122502|   27|Latia Vanhoose_Mi...|\n",
      "|  Latia Vanhoose|   MVC|132110|   55|Eda Neathery_Nico...|\n",
      "|     Neda Briski|    PF|141770|   42|Margene Moores_Mi...|\n",
      "|  Latia Vanhoose|    DB|152159|   27|Claude Panos_Sant...|\n",
      "|  Loris Crossett|   MVC|161771|   36|Mitzi Seldon_Jenn...|\n",
      "|  Annika Hoffman|   OOP|171660|   22|Taryn Brownlee_Mi...|\n",
      "|   Santa Kerfien|    PF|182129|   56|Judie Chipps_Tary...|\n",
      "|Mickey Cortright|    DB|192537|   62|Ernest Rossbach_M...|\n",
      "+----------------+------+------+-----+--------------------+\n",
      "only showing top 20 rows\n",
      "\n"
     ]
    }
   ],
   "source": [
    "df.select(df.columns[2:]).show()"
   ]
  },
  {
   "cell_type": "code",
   "execution_count": 11,
   "id": "459e8cb2-9c93-445f-b53a-3dea72e3544f",
   "metadata": {
    "tags": []
   },
   "outputs": [
    {
     "name": "stdout",
     "output_type": "stream",
     "text": [
      "+----------------+------+------+-----+\n",
      "|            name|course|  roll|marks|\n",
      "+----------------+------+------+-----+\n",
      "| Hubert Oliveras|    DB| 02984|   59|\n",
      "|Toshiko Hillyard| Cloud| 12899|   62|\n",
      "|  Celeste Lollis|    PF| 21267|   45|\n",
      "|    Elenore Choy|    DB| 32877|   29|\n",
      "|  Sheryll Towler|   DSA| 41487|   41|\n",
      "|  Margene Moores|   MVC| 52771|   32|\n",
      "|     Neda Briski|   OOP| 61973|   69|\n",
      "|    Claude Panos| Cloud| 72409|   85|\n",
      "|  Celeste Lollis|   MVC| 81492|   64|\n",
      "|  Cordie Harnois|   OOP| 92882|   51|\n",
      "|       Kena Wild|   DSA|102285|   35|\n",
      "| Ernest Rossbach|    DB|111449|   53|\n",
      "|  Latia Vanhoose|    DB|122502|   27|\n",
      "|  Latia Vanhoose|   MVC|132110|   55|\n",
      "|     Neda Briski|    PF|141770|   42|\n",
      "|  Latia Vanhoose|    DB|152159|   27|\n",
      "|  Loris Crossett|   MVC|161771|   36|\n",
      "|  Annika Hoffman|   OOP|171660|   22|\n",
      "|   Santa Kerfien|    PF|182129|   56|\n",
      "|Mickey Cortright|    DB|192537|   62|\n",
      "+----------------+------+------+-----+\n",
      "only showing top 20 rows\n",
      "\n"
     ]
    }
   ],
   "source": [
    "df.select(df.columns[2:6]).show()"
   ]
  },
  {
   "cell_type": "code",
   "execution_count": 18,
   "id": "942d73c4-4342-42bb-990d-362403134db2",
   "metadata": {
    "tags": []
   },
   "outputs": [
    {
     "name": "stdout",
     "output_type": "stream",
     "text": [
      "+----------------+--------------------+---+\n",
      "|            name|               email|age|\n",
      "+----------------+--------------------+---+\n",
      "| Hubert Oliveras|Annika Hoffman_Na...| 28|\n",
      "|Toshiko Hillyard|Margene Moores_Ma...| 29|\n",
      "|  Celeste Lollis|Jeannetta Golden_...| 28|\n",
      "|    Elenore Choy|Billi Clore_Mitzi...| 29|\n",
      "|  Sheryll Towler|Claude Panos_Judi...| 28|\n",
      "|  Margene Moores|Toshiko Hillyard_...| 28|\n",
      "|     Neda Briski|Alberta Freund_El...| 28|\n",
      "|    Claude Panos|Sheryll Towler_Al...| 28|\n",
      "|  Celeste Lollis|Nicole Harwood_Cl...| 28|\n",
      "|  Cordie Harnois|Judie Chipps_Clem...| 29|\n",
      "|       Kena Wild|Dustin Feagins_Ma...| 29|\n",
      "| Ernest Rossbach|Maybell Duguay_Ab...| 29|\n",
      "|  Latia Vanhoose|Latia Vanhoose_Mi...| 28|\n",
      "|  Latia Vanhoose|Eda Neathery_Nico...| 29|\n",
      "|     Neda Briski|Margene Moores_Mi...| 29|\n",
      "|  Latia Vanhoose|Claude Panos_Sant...| 29|\n",
      "|  Loris Crossett|Mitzi Seldon_Jenn...| 29|\n",
      "|  Annika Hoffman|Taryn Brownlee_Mi...| 29|\n",
      "|   Santa Kerfien|Judie Chipps_Tary...| 29|\n",
      "|Mickey Cortright|Ernest Rossbach_M...| 28|\n",
      "+----------------+--------------------+---+\n",
      "only showing top 20 rows\n",
      "\n"
     ]
    }
   ],
   "source": [
    "df2=df.select(df.name,\"email\",col('age'))\n",
    "df2.show()"
   ]
  },
  {
   "cell_type": "code",
   "execution_count": null,
   "id": "be1d19fd-432a-42a1-a103-a69a3d444200",
   "metadata": {},
   "outputs": [],
   "source": []
  }
 ],
 "metadata": {
  "kernelspec": {
   "display_name": "Python 3 (ipykernel)",
   "language": "python",
   "name": "python3"
  },
  "language_info": {
   "codemirror_mode": {
    "name": "ipython",
    "version": 3
   },
   "file_extension": ".py",
   "mimetype": "text/x-python",
   "name": "python",
   "nbconvert_exporter": "python",
   "pygments_lexer": "ipython3",
   "version": "3.11.5"
  }
 },
 "nbformat": 4,
 "nbformat_minor": 5
}
