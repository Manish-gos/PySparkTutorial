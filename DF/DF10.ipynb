{
 "cells": [
  {
   "cell_type": "code",
   "execution_count": 14,
   "id": "91e7cdcc-1e0a-4ec4-9a51-ae017318f3b0",
   "metadata": {
    "tags": []
   },
   "outputs": [
    {
     "name": "stdout",
     "output_type": "stream",
     "text": [
      "+---+------+----------------+------+------+-----+--------------------+\n",
      "|age|gender|            name|course|  roll|marks|               email|\n",
      "+---+------+----------------+------+------+-----+--------------------+\n",
      "| 28|Female| Hubert Oliveras|    DB|  2984|   59|Annika Hoffman_Na...|\n",
      "| 29|Female|Toshiko Hillyard| Cloud| 12899|   62|Margene Moores_Ma...|\n",
      "| 28|  Male|  Celeste Lollis|    PF| 21267|   45|Jeannetta Golden_...|\n",
      "| 29|Female|    Elenore Choy|    DB| 32877|   29|Billi Clore_Mitzi...|\n",
      "| 28|  Male|  Sheryll Towler|   DSA| 41487|   41|Claude Panos_Judi...|\n",
      "| 28|  Male|  Margene Moores|   MVC| 52771|   32|Toshiko Hillyard_...|\n",
      "| 28|  Male|     Neda Briski|   OOP| 61973|   69|Alberta Freund_El...|\n",
      "| 28|Female|    Claude Panos| Cloud| 72409|   85|Sheryll Towler_Al...|\n",
      "| 28|  Male|  Celeste Lollis|   MVC| 81492|   64|Nicole Harwood_Cl...|\n",
      "| 29|  Male|  Cordie Harnois|   OOP| 92882|   51|Judie Chipps_Clem...|\n",
      "| 29|Female|       Kena Wild|   DSA|102285|   35|Dustin Feagins_Ma...|\n",
      "| 29|  Male| Ernest Rossbach|    DB|111449|   53|Maybell Duguay_Ab...|\n",
      "| 28|Female|  Latia Vanhoose|    DB|122502|   27|Latia Vanhoose_Mi...|\n",
      "| 29|Female|  Latia Vanhoose|   MVC|132110|   55|Eda Neathery_Nico...|\n",
      "| 29|  Male|     Neda Briski|    PF|141770|   42|Margene Moores_Mi...|\n",
      "| 29|Female|  Latia Vanhoose|    DB|152159|   27|Claude Panos_Sant...|\n",
      "| 29|  Male|  Loris Crossett|   MVC|161771|   36|Mitzi Seldon_Jenn...|\n",
      "| 29|  Male|  Annika Hoffman|   OOP|171660|   22|Taryn Brownlee_Mi...|\n",
      "| 29|  Male|   Santa Kerfien|    PF|182129|   56|Judie Chipps_Tary...|\n",
      "| 28|Female|Mickey Cortright|    DB|192537|   62|Ernest Rossbach_M...|\n",
      "+---+------+----------------+------+------+-----+--------------------+\n",
      "only showing top 20 rows\n",
      "\n",
      "root\n",
      " |-- age: integer (nullable = true)\n",
      " |-- gender: string (nullable = true)\n",
      " |-- name: string (nullable = true)\n",
      " |-- course: string (nullable = true)\n",
      " |-- roll: integer (nullable = true)\n",
      " |-- marks: integer (nullable = true)\n",
      " |-- email: string (nullable = true)\n",
      "\n"
     ]
    }
   ],
   "source": [
    "from pyspark.sql import SparkSession\n",
    "from pyspark.sql.functions import col, lit, sum, min, max, avg, mean, count, round\n",
    "spark=SparkSession.builder.appName('GroupbyQuiz').getOrCreate()\n",
    "df=spark.read.options(header=True, inferSchema=True).csv('Files/StudentData.csv')\n",
    "df.show()\n",
    "df.printSchema()"
   ]
  },
  {
   "cell_type": "code",
   "execution_count": 10,
   "id": "b52febfd-b80a-4ac0-8716-955a15cb0e70",
   "metadata": {
    "tags": []
   },
   "outputs": [
    {
     "name": "stdout",
     "output_type": "stream",
     "text": [
      "+------+--------------+\n",
      "|course|Total Students|\n",
      "+------+--------------+\n",
      "|    PF|           166|\n",
      "|    DB|           157|\n",
      "|   MVC|           157|\n",
      "|   DSA|           176|\n",
      "| Cloud|           192|\n",
      "|   OOP|           152|\n",
      "+------+--------------+\n",
      "\n"
     ]
    }
   ],
   "source": [
    "df.groupBy('course').agg(count('*').alias('Total Students')).show()"
   ]
  },
  {
   "cell_type": "code",
   "execution_count": 11,
   "id": "2bb4d2ff-4418-4b75-9d20-f135ae9f1f69",
   "metadata": {
    "tags": []
   },
   "outputs": [
    {
     "name": "stdout",
     "output_type": "stream",
     "text": [
      "+------+------+--------------+\n",
      "|course|gender|Total Students|\n",
      "+------+------+--------------+\n",
      "|   OOP|  Male|            70|\n",
      "|    DB|  Male|            82|\n",
      "| Cloud|Female|           106|\n",
      "|   MVC|  Male|            86|\n",
      "|   DSA|Female|            98|\n",
      "|    PF|  Male|            97|\n",
      "|   MVC|Female|            71|\n",
      "| Cloud|  Male|            86|\n",
      "|    PF|Female|            69|\n",
      "|   DSA|  Male|            78|\n",
      "|    DB|Female|            75|\n",
      "|   OOP|Female|            82|\n",
      "+------+------+--------------+\n",
      "\n"
     ]
    }
   ],
   "source": [
    "df.groupBy('course','gender').agg(count('*').alias('Total Students')).show()"
   ]
  },
  {
   "cell_type": "code",
   "execution_count": 12,
   "id": "0f37e064-c27e-4578-857e-f8a2461db8f2",
   "metadata": {
    "tags": []
   },
   "outputs": [
    {
     "name": "stdout",
     "output_type": "stream",
     "text": [
      "+------+------+-----------+\n",
      "|course|gender|Total Marks|\n",
      "+------+------+-----------+\n",
      "|   OOP|  Male|       4234|\n",
      "|    DB|  Male|       5073|\n",
      "| Cloud|Female|       6316|\n",
      "|   MVC|  Male|       5241|\n",
      "|   DSA|Female|       6124|\n",
      "|    PF|  Male|       5960|\n",
      "|   MVC|Female|       4344|\n",
      "| Cloud|  Male|       5127|\n",
      "|    PF|Female|       3973|\n",
      "|   DSA|  Male|       4826|\n",
      "|    DB|Female|       4197|\n",
      "|   OOP|Female|       4682|\n",
      "+------+------+-----------+\n",
      "\n"
     ]
    }
   ],
   "source": [
    "df.groupBy('course','gender').agg(sum('marks').alias('Total Marks')).show()"
   ]
  },
  {
   "cell_type": "code",
   "execution_count": 15,
   "id": "55ad5178-f9e4-46b1-9dc2-8a9e28fe0d8f",
   "metadata": {
    "tags": []
   },
   "outputs": [
    {
     "name": "stdout",
     "output_type": "stream",
     "text": [
      "+------+---+---------+---------+---------+\n",
      "|course|age|Min Marks|Max Marks|Avg Marks|\n",
      "+------+---+---------+---------+---------+\n",
      "|   MVC| 28|       23|       99|    60.44|\n",
      "|   MVC| 29|       22|       99|    61.56|\n",
      "| Cloud| 28|       20|       99|    58.08|\n",
      "|    PF| 29|       20|       99|    56.28|\n",
      "|    PF| 28|       20|       98|    63.76|\n",
      "|   OOP| 29|       20|       99|    59.73|\n",
      "|   DSA| 28|       20|       99|    64.69|\n",
      "| Cloud| 29|       21|       98|    61.25|\n",
      "|    DB| 28|       21|       98|    58.77|\n",
      "|   DSA| 29|       20|       99|    60.01|\n",
      "|   OOP| 28|       23|       99|    57.64|\n",
      "|    DB| 29|       20|       98|    59.35|\n",
      "+------+---+---------+---------+---------+\n",
      "\n"
     ]
    }
   ],
   "source": [
    "df.groupBy('course','age').agg(min('marks').alias('Min Marks'), max('marks').alias('Max Marks'), round(avg('marks'),2).alias('Avg Marks')).show()"
   ]
  },
  {
   "cell_type": "code",
   "execution_count": null,
   "id": "79b2705d-f844-43aa-8947-e9c996f90730",
   "metadata": {},
   "outputs": [],
   "source": []
  },
  {
   "cell_type": "code",
   "execution_count": null,
   "id": "6cf2df9f-6d6b-4830-8e64-18abc73fd1b2",
   "metadata": {},
   "outputs": [],
   "source": []
  }
 ],
 "metadata": {
  "kernelspec": {
   "display_name": "Python 3 (ipykernel)",
   "language": "python",
   "name": "python3"
  },
  "language_info": {
   "codemirror_mode": {
    "name": "ipython",
    "version": 3
   },
   "file_extension": ".py",
   "mimetype": "text/x-python",
   "name": "python",
   "nbconvert_exporter": "python",
   "pygments_lexer": "ipython3",
   "version": "3.11.5"
  }
 },
 "nbformat": 4,
 "nbformat_minor": 5
}
