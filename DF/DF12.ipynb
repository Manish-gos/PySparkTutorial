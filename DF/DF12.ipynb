{
 "cells": [
  {
   "cell_type": "code",
   "execution_count": 1,
   "id": "cbe6d27c-d7e1-4406-a311-359e36c6925d",
   "metadata": {
    "tags": []
   },
   "outputs": [
    {
     "name": "stderr",
     "output_type": "stream",
     "text": [
      "Setting default log level to \"WARN\".\n",
      "To adjust logging level use sc.setLogLevel(newLevel). For SparkR, use setLogLevel(newLevel).\n",
      "24/11/12 22:26:43 WARN NativeCodeLoader: Unable to load native-hadoop library for your platform... using builtin-java classes where applicable\n",
      "24/11/12 22:26:43 WARN Utils: Service 'SparkUI' could not bind on port 4040. Attempting port 4041.\n",
      "24/11/12 22:26:43 WARN Utils: Service 'SparkUI' could not bind on port 4041. Attempting port 4042.\n",
      "24/11/12 22:26:43 WARN Utils: Service 'SparkUI' could not bind on port 4042. Attempting port 4043.\n",
      "24/11/12 22:26:43 WARN Utils: Service 'SparkUI' could not bind on port 4043. Attempting port 4044.\n",
      "24/11/12 22:26:43 WARN Utils: Service 'SparkUI' could not bind on port 4044. Attempting port 4045.\n"
     ]
    },
    {
     "name": "stdout",
     "output_type": "stream",
     "text": [
      "+-------------+----------+-----+------+---+-----+\n",
      "|employee_name|department|state|salary|age|bonus|\n",
      "+-------------+----------+-----+------+---+-----+\n",
      "|        James|     Sales|   NY| 90000| 34|10000|\n",
      "|      Michael|     Sales|   NY| 86000| 56|20000|\n",
      "|       Robert|     Sales|   CA| 81000| 30|23000|\n",
      "|        Maria|   Finance|   CA| 90000| 24|23000|\n",
      "|        Raman|   Finance|   CA| 99000| 40|24000|\n",
      "|        Scott|   Finance|   NY| 83000| 36|19000|\n",
      "|          Jen|   Finance|   NY| 79000| 53|15000|\n",
      "|         Jeff| Marketing|   CA| 80000| 25|18000|\n",
      "|        Kumar| Marketing|   NY| 91000| 50|21000|\n",
      "+-------------+----------+-----+------+---+-----+\n",
      "\n"
     ]
    }
   ],
   "source": [
    "from pyspark.sql import SparkSession\n",
    "from pyspark.sql.functions import udf,col\n",
    "from pyspark.sql.types import IntegerType,FloatType\n",
    "spark=SparkSession.builder.appName('UDF').getOrCreate()\n",
    "df=spark.read.options(header=True, inferSchema=True).csv('Files/OfficeData.csv')\n",
    "df.show()"
   ]
  },
  {
   "cell_type": "code",
   "execution_count": 2,
   "id": "e6b1c3f2-a630-43ba-99f4-8ad4551dedf8",
   "metadata": {
    "tags": []
   },
   "outputs": [
    {
     "name": "stdout",
     "output_type": "stream",
     "text": [
      "+-------------+----------+-----+------+---+-----+------------+\n",
      "|employee_name|department|state|salary|age|bonus|Total Salary|\n",
      "+-------------+----------+-----+------+---+-----+------------+\n",
      "|        James|     Sales|   NY| 90000| 34|10000|      100000|\n",
      "|      Michael|     Sales|   NY| 86000| 56|20000|      106000|\n",
      "|       Robert|     Sales|   CA| 81000| 30|23000|      104000|\n",
      "|        Maria|   Finance|   CA| 90000| 24|23000|      113000|\n",
      "|        Raman|   Finance|   CA| 99000| 40|24000|      123000|\n",
      "|        Scott|   Finance|   NY| 83000| 36|19000|      102000|\n",
      "|          Jen|   Finance|   NY| 79000| 53|15000|       94000|\n",
      "|         Jeff| Marketing|   CA| 80000| 25|18000|       98000|\n",
      "|        Kumar| Marketing|   NY| 91000| 50|21000|      112000|\n",
      "+-------------+----------+-----+------+---+-----+------------+\n",
      "\n"
     ]
    }
   ],
   "source": [
    "def get_total_salary(salary,bonus):\n",
    "    return salary+bonus\n",
    "\n",
    "totalSalary=udf(lambda x,y: get_total_salary(x,y),IntegerType())\n",
    "\n",
    "df.withColumn('Total Salary',totalSalary(df.salary,col('bonus'))).show()\n",
    "    "
   ]
  },
  {
   "cell_type": "code",
   "execution_count": 3,
   "id": "5da98e3d-74bd-455a-a013-494ac6a9810e",
   "metadata": {
    "tags": []
   },
   "outputs": [
    {
     "name": "stdout",
     "output_type": "stream",
     "text": [
      "+-------------+----------+-----+------+---+-----+------------+\n",
      "|employee_name|department|state|salary|age|bonus|Hiked Salary|\n",
      "+-------------+----------+-----+------+---+-----+------------+\n",
      "|        James|     Sales|   NY| 90000| 34|10000|     94500.0|\n",
      "|      Michael|     Sales|   NY| 86000| 56|20000|     90300.0|\n",
      "|       Robert|     Sales|   CA| 81000| 30|23000|     85050.0|\n",
      "|        Maria|   Finance|   CA| 90000| 24|23000|     94500.0|\n",
      "|        Raman|   Finance|   CA| 99000| 40|24000|    103950.0|\n",
      "|        Scott|   Finance|   NY| 83000| 36|19000|     87150.0|\n",
      "|          Jen|   Finance|   NY| 79000| 53|15000|     82950.0|\n",
      "|         Jeff| Marketing|   CA| 80000| 25|18000|     84000.0|\n",
      "|        Kumar| Marketing|   NY| 91000| 50|21000|     95550.0|\n",
      "+-------------+----------+-----+------+---+-----+------------+\n",
      "\n"
     ]
    }
   ],
   "source": [
    "def hikedSalary(salary):\n",
    "    return salary*0.05+salary\n",
    "\n",
    "totalhikedSalary=udf(lambda x: hikedSalary(x), FloatType())\n",
    "\n",
    "df.withColumn(\"Hiked Salary\",totalhikedSalary(df.salary)).show()"
   ]
  },
  {
   "cell_type": "code",
   "execution_count": 14,
   "id": "4bb61b98-b8af-461b-b94d-9deff6f543b5",
   "metadata": {
    "tags": []
   },
   "outputs": [
    {
     "name": "stdout",
     "output_type": "stream",
     "text": [
      "+-------------+----------+-----+------+---+-----+---------+\n",
      "|employee_name|department|state|salary|age|bonus|increment|\n",
      "+-------------+----------+-----+------+---+-----+---------+\n",
      "|        James|     Sales|   NY| 90000| 34|10000|   9500.0|\n",
      "|      Michael|     Sales|   NY| 86000| 56|20000|   9600.0|\n",
      "|       Robert|     Sales|   CA| 81000| 30|23000|  10410.0|\n",
      "|        Maria|   Finance|   CA| 90000| 24|23000|  11490.0|\n",
      "|        Raman|   Finance|   CA| 99000| 40|24000|  12600.0|\n",
      "|        Scott|   Finance|   NY| 83000| 36|19000|   9250.0|\n",
      "|          Jen|   Finance|   NY| 79000| 53|15000|   8650.0|\n",
      "|         Jeff| Marketing|   CA| 80000| 25|18000|  10140.0|\n",
      "|        Kumar| Marketing|   NY| 91000| 50|21000|  10150.0|\n",
      "+-------------+----------+-----+------+---+-----+---------+\n",
      "\n"
     ]
    }
   ],
   "source": [
    "def incremented(salary,state,bonus):\n",
    "    if state=='NY':\n",
    "        return salary*.1+bonus*.05\n",
    "    elif state=='CA':\n",
    "        return salary*.12+bonus*.03\n",
    "    \n",
    "increment=udf(lambda x,y,z : incremented(x,y,z),FloatType())\n",
    "\n",
    "df.withColumn('increment',increment(df.salary,df.state,df.bonus)).show()"
   ]
  },
  {
   "cell_type": "code",
   "execution_count": 15,
   "id": "ce2f67d7-8d2d-44cf-8f36-66d6971b75d7",
   "metadata": {
    "tags": []
   },
   "outputs": [
    {
     "data": {
      "text/plain": [
       "pyspark.sql.dataframe.DataFrame"
      ]
     },
     "execution_count": 15,
     "metadata": {},
     "output_type": "execute_result"
    }
   ],
   "source": [
    "type(df)"
   ]
  },
  {
   "cell_type": "code",
   "execution_count": 16,
   "id": "13e90eaf-b87b-4ddc-a9c9-6c315730f231",
   "metadata": {
    "tags": []
   },
   "outputs": [
    {
     "data": {
      "text/plain": [
       "pyspark.rdd.RDD"
      ]
     },
     "execution_count": 16,
     "metadata": {},
     "output_type": "execute_result"
    }
   ],
   "source": [
    "rdd=df.rdd\n",
    "type(rdd)"
   ]
  }
 ],
 "metadata": {
  "kernelspec": {
   "display_name": "Python 3 (ipykernel)",
   "language": "python",
   "name": "python3"
  },
  "language_info": {
   "codemirror_mode": {
    "name": "ipython",
    "version": 3
   },
   "file_extension": ".py",
   "mimetype": "text/x-python",
   "name": "python",
   "nbconvert_exporter": "python",
   "pygments_lexer": "ipython3",
   "version": "3.11.5"
  }
 },
 "nbformat": 4,
 "nbformat_minor": 5
}
