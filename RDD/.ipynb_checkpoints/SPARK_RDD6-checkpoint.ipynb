{
 "cells": [
  {
   "cell_type": "code",
   "execution_count": 0,
   "metadata": {
    "application/vnd.databricks.v1+cell": {
     "cellMetadata": {
      "byteLimit": 2048000,
      "rowLimit": 10000
     },
     "inputWidgets": {},
     "nuid": "ba249edc-fee0-4f7f-929b-73ac7304c63e",
     "showTitle": false,
     "title": ""
    }
   },
   "outputs": [],
   "source": [
    "from pyspark import SparkConf,SparkContext\n",
    "conf=SparkConf().setAppName(\"Group By Key\")\n",
    "sc=SparkContext.getOrCreate(conf=conf)\n",
    "rdd=sc.textFile('/FileStore/tables/spark3.txt')"
   ]
  },
  {
   "cell_type": "code",
   "execution_count": 0,
   "metadata": {
    "application/vnd.databricks.v1+cell": {
     "cellMetadata": {
      "byteLimit": 2048000,
      "rowLimit": 10000
     },
     "inputWidgets": {},
     "nuid": "dcff515e-eb34-4fd1-a26d-672b788223e0",
     "showTitle": false,
     "title": ""
    }
   },
   "outputs": [],
   "source": [
    "rdd1=rdd.flatMap(lambda x: x.split(' ')).map(lambda x: (x,1))"
   ]
  },
  {
   "cell_type": "code",
   "execution_count": 0,
   "metadata": {
    "application/vnd.databricks.v1+cell": {
     "cellMetadata": {
      "byteLimit": 2048000,
      "rowLimit": 10000
     },
     "inputWidgets": {},
     "nuid": "3ca4a2cc-920e-4087-847f-f176505b2ef7",
     "showTitle": false,
     "title": ""
    }
   },
   "outputs": [
    {
     "output_type": "stream",
     "name": "stdout",
     "output_type": "stream",
     "text": [
      "Out[5]: [('this', [1]),\n ('mongo', [1]),\n ('kiyte', [1]),\n ('do', [1]),\n ('company', [1]),\n ('capital', [1]),\n ('can', [1, 1]),\n ('dog', [1]),\n ('keep', [1]),\n ('does', [1]),\n ('contains', [1])]"
     ]
    }
   ],
   "source": [
    "rdd1.groupByKey().mapValues(list).collect()"
   ]
  },
  {
   "cell_type": "code",
   "execution_count": 0,
   "metadata": {
    "application/vnd.databricks.v1+cell": {
     "cellMetadata": {
      "byteLimit": 2048000,
      "rowLimit": 10000
     },
     "inputWidgets": {},
     "nuid": "e512be26-e13e-4f14-963c-636cf6558862",
     "showTitle": false,
     "title": ""
    }
   },
   "outputs": [
    {
     "output_type": "stream",
     "name": "stdout",
     "output_type": "stream",
     "text": [
      "Out[7]: [('this', 1),\n ('mongo', 1),\n ('kiyte', 1),\n ('do', 1),\n ('company', 1),\n ('capital', 1),\n ('can', 2),\n ('dog', 1),\n ('keep', 1),\n ('does', 1),\n ('contains', 1)]"
     ]
    }
   ],
   "source": [
    "rdd1.reduceByKey(lambda x,y : x+y).collect()"
   ]
  },
  {
   "cell_type": "code",
   "execution_count": 0,
   "metadata": {
    "application/vnd.databricks.v1+cell": {
     "cellMetadata": {},
     "inputWidgets": {},
     "nuid": "d547779f-1774-407c-97cc-1b5d1ea08b7f",
     "showTitle": false,
     "title": ""
    }
   },
   "outputs": [],
   "source": []
  }
 ],
 "metadata": {
  "application/vnd.databricks.v1+notebook": {
   "dashboards": [],
   "language": "python",
   "notebookMetadata": {
    "pythonIndentUnit": 4
   },
   "notebookName": "SPARK_RDD6",
   "widgets": {}
  }
 },
 "nbformat": 4,
 "nbformat_minor": 0
}
